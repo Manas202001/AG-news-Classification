{
  "cells": [
    {
      "cell_type": "code",
      "execution_count": null,
      "metadata": {
        "colab": {
          "base_uri": "https://localhost:8080/"
        },
        "id": "3rjXlOZrCAQp",
        "outputId": "0ba31731-602a-4b73-90e5-c7fb07e60317"
      },
      "outputs": [
        {
          "output_type": "stream",
          "name": "stdout",
          "text": [
            "Downloading ag-news-classification-dataset, 11949309 bytes compressed\n",
            "[==================================================] 11949309 bytes downloaded\n",
            "Downloaded and uncompressed: ag-news-classification-dataset\n",
            "Data source import complete.\n"
          ]
        }
      ],
      "source": [
        "\n",
        "# IMPORTANT: RUN THIS CELL IN ORDER TO IMPORT YOUR KAGGLE DATA SOURCES\n",
        "# TO THE CORRECT LOCATION (/kaggle/input) IN YOUR NOTEBOOK,\n",
        "# THEN FEEL FREE TO DELETE THIS CELL.\n",
        "# NOTE: THIS NOTEBOOK ENVIRONMENT DIFFERS FROM KAGGLE'S PYTHON\n",
        "# ENVIRONMENT SO THERE MAY BE MISSING LIBRARIES USED BY YOUR\n",
        "# NOTEBOOK.\n",
        "\n",
        "import os\n",
        "import sys\n",
        "from tempfile import NamedTemporaryFile\n",
        "from urllib.request import urlopen\n",
        "from urllib.parse import unquote, urlparse\n",
        "from urllib.error import HTTPError\n",
        "from zipfile import ZipFile\n",
        "import tarfile\n",
        "import shutil\n",
        "\n",
        "CHUNK_SIZE = 40960\n",
        "DATA_SOURCE_MAPPING = 'ag-news-classification-dataset:https%3A%2F%2Fstorage.googleapis.com%2Fkaggle-data-sets%2F612351%2F1095715%2Fbundle%2Farchive.zip%3FX-Goog-Algorithm%3DGOOG4-RSA-SHA256%26X-Goog-Credential%3Dgcp-kaggle-com%2540kaggle-161607.iam.gserviceaccount.com%252F20240206%252Fauto%252Fstorage%252Fgoog4_request%26X-Goog-Date%3D20240206T152724Z%26X-Goog-Expires%3D259200%26X-Goog-SignedHeaders%3Dhost%26X-Goog-Signature%3D42184c0d3925f435909a2a2b6ea0b63217525b7727413c3af7249444c7bac342710b7a9e34661445cb71221935da93a1a2ef049fa2b18f257f75b3843f9c9bcf553c70692fe1a98186f88dd2e6e0f71b5622073cbbaefa2f71d897cde832146be636845a2ec6ef6987b366b35e3734adfcd603e52b3171d7ff5c83d28f4e9c328711e38753565e6e037bb899609b7c7bb27e955be7ea18b835c28e09e71d2f07b304a59bc0e9cdf0250f102eb789cb7fdef790b4f52ecc8b776b531805c3d45f9e298e3a2059b991d99af5178912df5c37c4379e29ead2e340a379c3f00c3295c9562a89e335669fc4d8fb1081f0527af8a867fc3ac29c5ee15d1b46563310dc'\n",
        "\n",
        "KAGGLE_INPUT_PATH='/kaggle/input'\n",
        "KAGGLE_WORKING_PATH='/kaggle/working'\n",
        "KAGGLE_SYMLINK='kaggle'\n",
        "\n",
        "!umount /kaggle/input/ 2> /dev/null\n",
        "shutil.rmtree('/kaggle/input', ignore_errors=True)\n",
        "os.makedirs(KAGGLE_INPUT_PATH, 0o777, exist_ok=True)\n",
        "os.makedirs(KAGGLE_WORKING_PATH, 0o777, exist_ok=True)\n",
        "\n",
        "try:\n",
        "  os.symlink(KAGGLE_INPUT_PATH, os.path.join(\"..\", 'input'), target_is_directory=True)\n",
        "except FileExistsError:\n",
        "  pass\n",
        "try:\n",
        "  os.symlink(KAGGLE_WORKING_PATH, os.path.join(\"..\", 'working'), target_is_directory=True)\n",
        "except FileExistsError:\n",
        "  pass\n",
        "\n",
        "for data_source_mapping in DATA_SOURCE_MAPPING.split(','):\n",
        "    directory, download_url_encoded = data_source_mapping.split(':')\n",
        "    download_url = unquote(download_url_encoded)\n",
        "    filename = urlparse(download_url).path\n",
        "    destination_path = os.path.join(KAGGLE_INPUT_PATH, directory)\n",
        "    try:\n",
        "        with urlopen(download_url) as fileres, NamedTemporaryFile() as tfile:\n",
        "            total_length = fileres.headers['content-length']\n",
        "            print(f'Downloading {directory}, {total_length} bytes compressed')\n",
        "            dl = 0\n",
        "            data = fileres.read(CHUNK_SIZE)\n",
        "            while len(data) > 0:\n",
        "                dl += len(data)\n",
        "                tfile.write(data)\n",
        "                done = int(50 * dl / int(total_length))\n",
        "                sys.stdout.write(f\"\\r[{'=' * done}{' ' * (50-done)}] {dl} bytes downloaded\")\n",
        "                sys.stdout.flush()\n",
        "                data = fileres.read(CHUNK_SIZE)\n",
        "            if filename.endswith('.zip'):\n",
        "              with ZipFile(tfile) as zfile:\n",
        "                zfile.extractall(destination_path)\n",
        "            else:\n",
        "              with tarfile.open(tfile.name) as tarfile:\n",
        "                tarfile.extractall(destination_path)\n",
        "            print(f'\\nDownloaded and uncompressed: {directory}')\n",
        "    except HTTPError as e:\n",
        "        print(f'Failed to load (likely expired) {download_url} to path {destination_path}')\n",
        "        continue\n",
        "    except OSError as e:\n",
        "        print(f'Failed to load {download_url} to path {destination_path}')\n",
        "        continue\n",
        "\n",
        "print('Data source import complete.')\n"
      ]
    },
    {
      "cell_type": "code",
      "execution_count": null,
      "metadata": {
        "colab": {
          "base_uri": "https://localhost:8080/"
        },
        "id": "62fpU5tECAQr",
        "outputId": "c7c4d87a-82a5-439a-d71c-0787029c481c"
      },
      "outputs": [
        {
          "output_type": "stream",
          "name": "stdout",
          "text": [
            "/kaggle/input/ag-news-classification-dataset/train.csv\n",
            "/kaggle/input/ag-news-classification-dataset/test.csv\n"
          ]
        }
      ],
      "source": [
        "# This Python 3 environment comes with many helpful analytics libraries installed\n",
        "# It is defined by the kaggle/python Docker image: https://github.com/kaggle/docker-python\n",
        "# For example, here's several helpful packages to load\n",
        "\n",
        "import numpy as np # linear algebra\n",
        "import pandas as pd # data processing, CSV file I/O (e.g. pd.read_csv)\n",
        "\n",
        "# Input data files are available in the read-only \"../input/\" directory\n",
        "# For example, running this (by clicking run or pressing Shift+Enter) will list all files under the input directory\n",
        "\n",
        "import os\n",
        "for dirname, _, filenames in os.walk('/kaggle/input'):\n",
        "    for filename in filenames:\n",
        "        print(os.path.join(dirname, filename))\n",
        "\n",
        "# You can write up to 20GB to the current directory (/kaggle/working/) that gets preserved as output when you create a version using \"Save & Run All\"\n",
        "# You can also write temporary files to /kaggle/temp/, but they won't be saved outside of the current session"
      ]
    },
    {
      "cell_type": "markdown",
      "metadata": {
        "id": "AQ8oh7QNCAQs"
      },
      "source": [
        "Importing Libraries"
      ]
    },
    {
      "cell_type": "code",
      "execution_count": null,
      "metadata": {
        "id": "NyKsF4bECAQt"
      },
      "outputs": [],
      "source": [
        "import pandas as pd\n",
        "import matplotlib.pyplot as plt\n",
        "import seaborn as sns"
      ]
    },
    {
      "cell_type": "code",
      "execution_count": null,
      "metadata": {
        "colab": {
          "base_uri": "https://localhost:8080/",
          "height": 424
        },
        "id": "VAS3vZ3ICAQu",
        "outputId": "8207c81b-9417-4f0e-fd52-bad57a3abdac"
      },
      "outputs": [
        {
          "output_type": "execute_result",
          "data": {
            "text/plain": [
              "        Class Index                                              Title  \\\n",
              "0                 3  Wall St. Bears Claw Back Into the Black (Reuters)   \n",
              "1                 3  Carlyle Looks Toward Commercial Aerospace (Reu...   \n",
              "2                 3    Oil and Economy Cloud Stocks' Outlook (Reuters)   \n",
              "3                 3  Iraq Halts Oil Exports from Main Southern Pipe...   \n",
              "4                 3  Oil prices soar to all-time record, posing new...   \n",
              "...             ...                                                ...   \n",
              "119995            1  Pakistan's Musharraf Says Won't Quit as Army C...   \n",
              "119996            2                  Renteria signing a top-shelf deal   \n",
              "119997            2                    Saban not going to Dolphins yet   \n",
              "119998            2                                  Today's NFL games   \n",
              "119999            2                       Nets get Carter from Raptors   \n",
              "\n",
              "                                              Description  \n",
              "0       Reuters - Short-sellers, Wall Street's dwindli...  \n",
              "1       Reuters - Private investment firm Carlyle Grou...  \n",
              "2       Reuters - Soaring crude prices plus worries\\ab...  \n",
              "3       Reuters - Authorities have halted oil export\\f...  \n",
              "4       AFP - Tearaway world oil prices, toppling reco...  \n",
              "...                                                   ...  \n",
              "119995   KARACHI (Reuters) - Pakistani President Perve...  \n",
              "119996  Red Sox general manager Theo Epstein acknowled...  \n",
              "119997  The Miami Dolphins will put their courtship of...  \n",
              "119998  PITTSBURGH at NY GIANTS Time: 1:30 p.m. Line: ...  \n",
              "119999  INDIANAPOLIS -- All-Star Vince Carter was trad...  \n",
              "\n",
              "[120000 rows x 3 columns]"
            ],
            "text/html": [
              "\n",
              "  <div id=\"df-419786b6-4dbb-452e-837c-09fbc0d715fe\" class=\"colab-df-container\">\n",
              "    <div>\n",
              "<style scoped>\n",
              "    .dataframe tbody tr th:only-of-type {\n",
              "        vertical-align: middle;\n",
              "    }\n",
              "\n",
              "    .dataframe tbody tr th {\n",
              "        vertical-align: top;\n",
              "    }\n",
              "\n",
              "    .dataframe thead th {\n",
              "        text-align: right;\n",
              "    }\n",
              "</style>\n",
              "<table border=\"1\" class=\"dataframe\">\n",
              "  <thead>\n",
              "    <tr style=\"text-align: right;\">\n",
              "      <th></th>\n",
              "      <th>Class Index</th>\n",
              "      <th>Title</th>\n",
              "      <th>Description</th>\n",
              "    </tr>\n",
              "  </thead>\n",
              "  <tbody>\n",
              "    <tr>\n",
              "      <th>0</th>\n",
              "      <td>3</td>\n",
              "      <td>Wall St. Bears Claw Back Into the Black (Reuters)</td>\n",
              "      <td>Reuters - Short-sellers, Wall Street's dwindli...</td>\n",
              "    </tr>\n",
              "    <tr>\n",
              "      <th>1</th>\n",
              "      <td>3</td>\n",
              "      <td>Carlyle Looks Toward Commercial Aerospace (Reu...</td>\n",
              "      <td>Reuters - Private investment firm Carlyle Grou...</td>\n",
              "    </tr>\n",
              "    <tr>\n",
              "      <th>2</th>\n",
              "      <td>3</td>\n",
              "      <td>Oil and Economy Cloud Stocks' Outlook (Reuters)</td>\n",
              "      <td>Reuters - Soaring crude prices plus worries\\ab...</td>\n",
              "    </tr>\n",
              "    <tr>\n",
              "      <th>3</th>\n",
              "      <td>3</td>\n",
              "      <td>Iraq Halts Oil Exports from Main Southern Pipe...</td>\n",
              "      <td>Reuters - Authorities have halted oil export\\f...</td>\n",
              "    </tr>\n",
              "    <tr>\n",
              "      <th>4</th>\n",
              "      <td>3</td>\n",
              "      <td>Oil prices soar to all-time record, posing new...</td>\n",
              "      <td>AFP - Tearaway world oil prices, toppling reco...</td>\n",
              "    </tr>\n",
              "    <tr>\n",
              "      <th>...</th>\n",
              "      <td>...</td>\n",
              "      <td>...</td>\n",
              "      <td>...</td>\n",
              "    </tr>\n",
              "    <tr>\n",
              "      <th>119995</th>\n",
              "      <td>1</td>\n",
              "      <td>Pakistan's Musharraf Says Won't Quit as Army C...</td>\n",
              "      <td>KARACHI (Reuters) - Pakistani President Perve...</td>\n",
              "    </tr>\n",
              "    <tr>\n",
              "      <th>119996</th>\n",
              "      <td>2</td>\n",
              "      <td>Renteria signing a top-shelf deal</td>\n",
              "      <td>Red Sox general manager Theo Epstein acknowled...</td>\n",
              "    </tr>\n",
              "    <tr>\n",
              "      <th>119997</th>\n",
              "      <td>2</td>\n",
              "      <td>Saban not going to Dolphins yet</td>\n",
              "      <td>The Miami Dolphins will put their courtship of...</td>\n",
              "    </tr>\n",
              "    <tr>\n",
              "      <th>119998</th>\n",
              "      <td>2</td>\n",
              "      <td>Today's NFL games</td>\n",
              "      <td>PITTSBURGH at NY GIANTS Time: 1:30 p.m. Line: ...</td>\n",
              "    </tr>\n",
              "    <tr>\n",
              "      <th>119999</th>\n",
              "      <td>2</td>\n",
              "      <td>Nets get Carter from Raptors</td>\n",
              "      <td>INDIANAPOLIS -- All-Star Vince Carter was trad...</td>\n",
              "    </tr>\n",
              "  </tbody>\n",
              "</table>\n",
              "<p>120000 rows × 3 columns</p>\n",
              "</div>\n",
              "    <div class=\"colab-df-buttons\">\n",
              "\n",
              "  <div class=\"colab-df-container\">\n",
              "    <button class=\"colab-df-convert\" onclick=\"convertToInteractive('df-419786b6-4dbb-452e-837c-09fbc0d715fe')\"\n",
              "            title=\"Convert this dataframe to an interactive table.\"\n",
              "            style=\"display:none;\">\n",
              "\n",
              "  <svg xmlns=\"http://www.w3.org/2000/svg\" height=\"24px\" viewBox=\"0 -960 960 960\">\n",
              "    <path d=\"M120-120v-720h720v720H120Zm60-500h600v-160H180v160Zm220 220h160v-160H400v160Zm0 220h160v-160H400v160ZM180-400h160v-160H180v160Zm440 0h160v-160H620v160ZM180-180h160v-160H180v160Zm440 0h160v-160H620v160Z\"/>\n",
              "  </svg>\n",
              "    </button>\n",
              "\n",
              "  <style>\n",
              "    .colab-df-container {\n",
              "      display:flex;\n",
              "      gap: 12px;\n",
              "    }\n",
              "\n",
              "    .colab-df-convert {\n",
              "      background-color: #E8F0FE;\n",
              "      border: none;\n",
              "      border-radius: 50%;\n",
              "      cursor: pointer;\n",
              "      display: none;\n",
              "      fill: #1967D2;\n",
              "      height: 32px;\n",
              "      padding: 0 0 0 0;\n",
              "      width: 32px;\n",
              "    }\n",
              "\n",
              "    .colab-df-convert:hover {\n",
              "      background-color: #E2EBFA;\n",
              "      box-shadow: 0px 1px 2px rgba(60, 64, 67, 0.3), 0px 1px 3px 1px rgba(60, 64, 67, 0.15);\n",
              "      fill: #174EA6;\n",
              "    }\n",
              "\n",
              "    .colab-df-buttons div {\n",
              "      margin-bottom: 4px;\n",
              "    }\n",
              "\n",
              "    [theme=dark] .colab-df-convert {\n",
              "      background-color: #3B4455;\n",
              "      fill: #D2E3FC;\n",
              "    }\n",
              "\n",
              "    [theme=dark] .colab-df-convert:hover {\n",
              "      background-color: #434B5C;\n",
              "      box-shadow: 0px 1px 3px 1px rgba(0, 0, 0, 0.15);\n",
              "      filter: drop-shadow(0px 1px 2px rgba(0, 0, 0, 0.3));\n",
              "      fill: #FFFFFF;\n",
              "    }\n",
              "  </style>\n",
              "\n",
              "    <script>\n",
              "      const buttonEl =\n",
              "        document.querySelector('#df-419786b6-4dbb-452e-837c-09fbc0d715fe button.colab-df-convert');\n",
              "      buttonEl.style.display =\n",
              "        google.colab.kernel.accessAllowed ? 'block' : 'none';\n",
              "\n",
              "      async function convertToInteractive(key) {\n",
              "        const element = document.querySelector('#df-419786b6-4dbb-452e-837c-09fbc0d715fe');\n",
              "        const dataTable =\n",
              "          await google.colab.kernel.invokeFunction('convertToInteractive',\n",
              "                                                    [key], {});\n",
              "        if (!dataTable) return;\n",
              "\n",
              "        const docLinkHtml = 'Like what you see? Visit the ' +\n",
              "          '<a target=\"_blank\" href=https://colab.research.google.com/notebooks/data_table.ipynb>data table notebook</a>'\n",
              "          + ' to learn more about interactive tables.';\n",
              "        element.innerHTML = '';\n",
              "        dataTable['output_type'] = 'display_data';\n",
              "        await google.colab.output.renderOutput(dataTable, element);\n",
              "        const docLink = document.createElement('div');\n",
              "        docLink.innerHTML = docLinkHtml;\n",
              "        element.appendChild(docLink);\n",
              "      }\n",
              "    </script>\n",
              "  </div>\n",
              "\n",
              "\n",
              "<div id=\"df-b6e06bf7-1185-4431-83d4-520d9252e61d\">\n",
              "  <button class=\"colab-df-quickchart\" onclick=\"quickchart('df-b6e06bf7-1185-4431-83d4-520d9252e61d')\"\n",
              "            title=\"Suggest charts\"\n",
              "            style=\"display:none;\">\n",
              "\n",
              "<svg xmlns=\"http://www.w3.org/2000/svg\" height=\"24px\"viewBox=\"0 0 24 24\"\n",
              "     width=\"24px\">\n",
              "    <g>\n",
              "        <path d=\"M19 3H5c-1.1 0-2 .9-2 2v14c0 1.1.9 2 2 2h14c1.1 0 2-.9 2-2V5c0-1.1-.9-2-2-2zM9 17H7v-7h2v7zm4 0h-2V7h2v10zm4 0h-2v-4h2v4z\"/>\n",
              "    </g>\n",
              "</svg>\n",
              "  </button>\n",
              "\n",
              "<style>\n",
              "  .colab-df-quickchart {\n",
              "      --bg-color: #E8F0FE;\n",
              "      --fill-color: #1967D2;\n",
              "      --hover-bg-color: #E2EBFA;\n",
              "      --hover-fill-color: #174EA6;\n",
              "      --disabled-fill-color: #AAA;\n",
              "      --disabled-bg-color: #DDD;\n",
              "  }\n",
              "\n",
              "  [theme=dark] .colab-df-quickchart {\n",
              "      --bg-color: #3B4455;\n",
              "      --fill-color: #D2E3FC;\n",
              "      --hover-bg-color: #434B5C;\n",
              "      --hover-fill-color: #FFFFFF;\n",
              "      --disabled-bg-color: #3B4455;\n",
              "      --disabled-fill-color: #666;\n",
              "  }\n",
              "\n",
              "  .colab-df-quickchart {\n",
              "    background-color: var(--bg-color);\n",
              "    border: none;\n",
              "    border-radius: 50%;\n",
              "    cursor: pointer;\n",
              "    display: none;\n",
              "    fill: var(--fill-color);\n",
              "    height: 32px;\n",
              "    padding: 0;\n",
              "    width: 32px;\n",
              "  }\n",
              "\n",
              "  .colab-df-quickchart:hover {\n",
              "    background-color: var(--hover-bg-color);\n",
              "    box-shadow: 0 1px 2px rgba(60, 64, 67, 0.3), 0 1px 3px 1px rgba(60, 64, 67, 0.15);\n",
              "    fill: var(--button-hover-fill-color);\n",
              "  }\n",
              "\n",
              "  .colab-df-quickchart-complete:disabled,\n",
              "  .colab-df-quickchart-complete:disabled:hover {\n",
              "    background-color: var(--disabled-bg-color);\n",
              "    fill: var(--disabled-fill-color);\n",
              "    box-shadow: none;\n",
              "  }\n",
              "\n",
              "  .colab-df-spinner {\n",
              "    border: 2px solid var(--fill-color);\n",
              "    border-color: transparent;\n",
              "    border-bottom-color: var(--fill-color);\n",
              "    animation:\n",
              "      spin 1s steps(1) infinite;\n",
              "  }\n",
              "\n",
              "  @keyframes spin {\n",
              "    0% {\n",
              "      border-color: transparent;\n",
              "      border-bottom-color: var(--fill-color);\n",
              "      border-left-color: var(--fill-color);\n",
              "    }\n",
              "    20% {\n",
              "      border-color: transparent;\n",
              "      border-left-color: var(--fill-color);\n",
              "      border-top-color: var(--fill-color);\n",
              "    }\n",
              "    30% {\n",
              "      border-color: transparent;\n",
              "      border-left-color: var(--fill-color);\n",
              "      border-top-color: var(--fill-color);\n",
              "      border-right-color: var(--fill-color);\n",
              "    }\n",
              "    40% {\n",
              "      border-color: transparent;\n",
              "      border-right-color: var(--fill-color);\n",
              "      border-top-color: var(--fill-color);\n",
              "    }\n",
              "    60% {\n",
              "      border-color: transparent;\n",
              "      border-right-color: var(--fill-color);\n",
              "    }\n",
              "    80% {\n",
              "      border-color: transparent;\n",
              "      border-right-color: var(--fill-color);\n",
              "      border-bottom-color: var(--fill-color);\n",
              "    }\n",
              "    90% {\n",
              "      border-color: transparent;\n",
              "      border-bottom-color: var(--fill-color);\n",
              "    }\n",
              "  }\n",
              "</style>\n",
              "\n",
              "  <script>\n",
              "    async function quickchart(key) {\n",
              "      const quickchartButtonEl =\n",
              "        document.querySelector('#' + key + ' button');\n",
              "      quickchartButtonEl.disabled = true;  // To prevent multiple clicks.\n",
              "      quickchartButtonEl.classList.add('colab-df-spinner');\n",
              "      try {\n",
              "        const charts = await google.colab.kernel.invokeFunction(\n",
              "            'suggestCharts', [key], {});\n",
              "      } catch (error) {\n",
              "        console.error('Error during call to suggestCharts:', error);\n",
              "      }\n",
              "      quickchartButtonEl.classList.remove('colab-df-spinner');\n",
              "      quickchartButtonEl.classList.add('colab-df-quickchart-complete');\n",
              "    }\n",
              "    (() => {\n",
              "      let quickchartButtonEl =\n",
              "        document.querySelector('#df-b6e06bf7-1185-4431-83d4-520d9252e61d button');\n",
              "      quickchartButtonEl.style.display =\n",
              "        google.colab.kernel.accessAllowed ? 'block' : 'none';\n",
              "    })();\n",
              "  </script>\n",
              "</div>\n",
              "    </div>\n",
              "  </div>\n"
            ]
          },
          "metadata": {},
          "execution_count": 4
        }
      ],
      "source": [
        "data=pd.read_csv('/kaggle/input/ag-news-classification-dataset/train.csv')\n",
        "data"
      ]
    },
    {
      "cell_type": "markdown",
      "metadata": {
        "id": "Ft8iufc9CAQu"
      },
      "source": [
        "Data Visualization"
      ]
    },
    {
      "cell_type": "code",
      "execution_count": null,
      "metadata": {
        "colab": {
          "base_uri": "https://localhost:8080/"
        },
        "id": "H953U0XXCAQu",
        "outputId": "4a35e869-4e45-4877-e2ce-553aa4b97cc4"
      },
      "outputs": [
        {
          "output_type": "execute_result",
          "data": {
            "text/plain": [
              "Index(['Class Index', 'Title', 'Description'], dtype='object')"
            ]
          },
          "metadata": {},
          "execution_count": 5
        }
      ],
      "source": [
        "data.columns"
      ]
    },
    {
      "cell_type": "code",
      "execution_count": null,
      "metadata": {
        "colab": {
          "base_uri": "https://localhost:8080/"
        },
        "id": "rSZNJCAcCAQv",
        "outputId": "33dd015d-3999-4de5-8a54-82231fb96f74"
      },
      "outputs": [
        {
          "output_type": "execute_result",
          "data": {
            "text/plain": [
              "0"
            ]
          },
          "metadata": {},
          "execution_count": 6
        }
      ],
      "source": [
        "data['Title'].isnull().sum()"
      ]
    },
    {
      "cell_type": "code",
      "execution_count": null,
      "metadata": {
        "colab": {
          "base_uri": "https://localhost:8080/"
        },
        "id": "M7gt-As7CAQv",
        "outputId": "e649e071-4f4d-478f-da08-c339852861e5"
      },
      "outputs": [
        {
          "output_type": "execute_result",
          "data": {
            "text/plain": [
              "0"
            ]
          },
          "metadata": {},
          "execution_count": 7
        }
      ],
      "source": [
        "data['Description'].isnull().sum()"
      ]
    },
    {
      "cell_type": "code",
      "execution_count": null,
      "metadata": {
        "colab": {
          "base_uri": "https://localhost:8080/"
        },
        "id": "VeUJCmQ0CAQv",
        "outputId": "207710b3-da0a-4343-9f46-8a9f9336ca12"
      },
      "outputs": [
        {
          "output_type": "execute_result",
          "data": {
            "text/plain": [
              "3    30000\n",
              "4    30000\n",
              "2    30000\n",
              "1    30000\n",
              "Name: Class Index, dtype: int64"
            ]
          },
          "metadata": {},
          "execution_count": 8
        }
      ],
      "source": [
        "data['Class Index'].value_counts()"
      ]
    },
    {
      "cell_type": "code",
      "execution_count": null,
      "metadata": {
        "colab": {
          "base_uri": "https://localhost:8080/",
          "height": 442
        },
        "id": "eI2Nn0lKCAQw",
        "outputId": "2832bc74-a04b-4d16-d553-11d6b203f4d5"
      },
      "outputs": [
        {
          "output_type": "execute_result",
          "data": {
            "text/plain": [
              "<Axes: >"
            ]
          },
          "metadata": {},
          "execution_count": 9
        },
        {
          "output_type": "display_data",
          "data": {
            "text/plain": [
              "<Figure size 640x480 with 1 Axes>"
            ],
            "image/png": "[encoded data removed]"
          },
          "metadata": {}
        }
      ],
      "source": [
        "data['Class Index'].value_counts().plot(kind='bar')"
      ]
    },
    {
      "cell_type": "markdown",
      "metadata": {
        "id": "Fe6WdvnFCAQw"
      },
      "source": [
        "Text Preprocessing"
      ]
    },
    {
      "cell_type": "code",
      "execution_count": null,
      "metadata": {
        "colab": {
          "base_uri": "https://localhost:8080/"
        },
        "id": "v6QCEPp7CAQw",
        "outputId": "fc081b2d-3d69-4514-824c-2ca92253f9ce"
      },
      "outputs": [
        {
          "output_type": "stream",
          "name": "stderr",
          "text": [
            "[nltk_data] Downloading package stopwords to /root/nltk_data...\n",
            "[nltk_data]   Unzipping corpora/stopwords.zip.\n",
            "[nltk_data] Downloading package punkt to /root/nltk_data...\n",
            "[nltk_data]   Unzipping tokenizers/punkt.zip.\n",
            "[nltk_data] Downloading package wordnet to /root/nltk_data...\n"
          ]
        }
      ],
      "source": [
        "import nltk\n",
        "from nltk.tokenize import word_tokenize\n",
        "from nltk.tokenize import sent_tokenize\n",
        "from nltk.stem import WordNetLemmatizer\n",
        "nltk.download('stopwords')\n",
        "nltk.download('punkt')\n",
        "nltk.download('wordnet')\n",
        "from nltk.corpus import stopwords"
      ]
    },
    {
      "cell_type": "markdown",
      "metadata": {
        "id": "P9qAq0R-CAQw"
      },
      "source": [
        "Data Cleansing:"
      ]
    },
    {
      "cell_type": "code",
      "execution_count": null,
      "metadata": {
        "id": "QBTPL0-FCAQw"
      },
      "outputs": [],
      "source": [
        "import re\n",
        "import string\n",
        "\n",
        "def clean_text(text ):\n",
        "    text =''.join(word for word in text if word not in string.punctuation)\n",
        "    text1 = ''.join(w.lower() for w in text if not w.isdigit())\n",
        "    return text1"
      ]
    },
    {
      "cell_type": "markdown",
      "metadata": {
        "id": "mIrwMI6LCAQw"
      },
      "source": [
        "Tokenization, Lemmatization"
      ]
    },
    {
      "cell_type": "code",
      "execution_count": null,
      "metadata": {
        "id": "z227U2euCAQw"
      },
      "outputs": [],
      "source": [
        "# Lemmatization of text data\n",
        "def lemmatize_text(text):\n",
        "    wordlist = []\n",
        "    lemmatizer = WordNetLemmatizer()\n",
        "    # Sentence tokenization\n",
        "    sentences = nltk.sent_tokenize(str(text))\n",
        "\n",
        "    intial_sentences = sentences[0:1]\n",
        "    final_sentences = sentences[len(sentences)-2: len(sentences)-1]\n",
        "\n",
        "    # Word tokenization\n",
        "    for sentence in intial_sentences:\n",
        "        words = nltk.word_tokenize(sentence)\n",
        "        for word in words:\n",
        "            wordlist.append(word)\n",
        "\n",
        "    for sentence in final_sentences:\n",
        "        words = nltk.word_tokenize(sentence)\n",
        "        for word in words:\n",
        "            wordlist.append(word)\n",
        "\n",
        "    return wordlist"
      ]
    },
    {
      "cell_type": "markdown",
      "metadata": {
        "id": "Vkl-LpyOCAQx"
      },
      "source": [
        "Applying Functions on train data"
      ]
    },
    {
      "cell_type": "code",
      "execution_count": null,
      "metadata": {
        "id": "QvuX6JE3CAQx"
      },
      "outputs": [],
      "source": [
        "# Apply the functions on Description column\n",
        "\n",
        "# Clean\n",
        "data['Description'] = data['Description'].apply(lambda x: clean_text(x))\n",
        "# Lemmatize\n",
        "data['Description'] = data['Description'].apply(lambda x: lemmatize_text(x))"
      ]
    },
    {
      "cell_type": "code",
      "execution_count": null,
      "metadata": {
        "id": "LhKVzYeGCAQx"
      },
      "outputs": [],
      "source": [
        "# Apply the functions on Title column\n",
        "\n",
        "# Clean\n",
        "data['Title'] = data['Title'].apply(lambda x: clean_text(x))\n",
        "# Lemmatize\n",
        "data['Title'] = data['Title'].apply(lambda x: lemmatize_text(x))"
      ]
    },
    {
      "cell_type": "code",
      "execution_count": null,
      "metadata": {
        "colab": {
          "base_uri": "https://localhost:8080/",
          "height": 424
        },
        "id": "7Hneq8oVCAQx",
        "outputId": "0048ebe1-67a8-496b-aee5-d1131f91ad10"
      },
      "outputs": [
        {
          "output_type": "execute_result",
          "data": {
            "text/plain": [
              "        Class Index                                              Title  \\\n",
              "0                 3  [wall, st, bears, claw, back, into, the, black...   \n",
              "1                 3  [carlyle, looks, toward, commercial, aerospace...   \n",
              "2                 3  [oil, and, economy, cloud, stocks, outlook, re...   \n",
              "3                 3  [iraq, halts, oil, exports, from, main, southe...   \n",
              "4                 3  [oil, prices, soar, to, alltime, record, posin...   \n",
              "...             ...                                                ...   \n",
              "119995            1  [pakistans, musharraf, says, wont, quit, as, a...   \n",
              "119996            2             [renteria, signing, a, topshelf, deal]   \n",
              "119997            2             [saban, not, going, to, dolphins, yet]   \n",
              "119998            2                               [todays, nfl, games]   \n",
              "119999            2                 [nets, get, carter, from, raptors]   \n",
              "\n",
              "                                              Description  \n",
              "0       [reuters, shortsellers, wall, streets, dwindli...  \n",
              "1       [reuters, private, investment, firm, carlyle, ...  \n",
              "2       [reuters, soaring, crude, prices, plus, worrie...  \n",
              "3       [reuters, authorities, have, halted, oil, expo...  \n",
              "4       [afp, tearaway, world, oil, prices, toppling, ...  \n",
              "...                                                   ...  \n",
              "119995  [karachi, reuters, pakistani, president, perve...  \n",
              "119996  [red, sox, general, manager, theo, epstein, ac...  \n",
              "119997  [the, miami, dolphins, will, put, their, court...  \n",
              "119998  [pittsburgh, at, ny, giants, time, pm, line, s...  \n",
              "119999  [indianapolis, allstar, vince, carter, was, tr...  \n",
              "\n",
              "[120000 rows x 3 columns]"
            ],
            "text/html": [
              "\n",
              "  <div id=\"df-3967fd57-9855-4f83-8833-46db620ab453\" class=\"colab-df-container\">\n",
              "    <div>\n",
              "<style scoped>\n",
              "    .dataframe tbody tr th:only-of-type {\n",
              "        vertical-align: middle;\n",
              "    }\n",
              "\n",
              "    .dataframe tbody tr th {\n",
              "        vertical-align: top;\n",
              "    }\n",
              "\n",
              "    .dataframe thead th {\n",
              "        text-align: right;\n",
              "    }\n",
              "</style>\n",
              "<table border=\"1\" class=\"dataframe\">\n",
              "  <thead>\n",
              "    <tr style=\"text-align: right;\">\n",
              "      <th></th>\n",
              "      <th>Class Index</th>\n",
              "      <th>Title</th>\n",
              "      <th>Description</th>\n",
              "    </tr>\n",
              "  </thead>\n",
              "  <tbody>\n",
              "    <tr>\n",
              "      <th>0</th>\n",
              "      <td>3</td>\n",
              "      <td>[wall, st, bears, claw, back, into, the, black...</td>\n",
              "      <td>[reuters, shortsellers, wall, streets, dwindli...</td>\n",
              "    </tr>\n",
              "    <tr>\n",
              "      <th>1</th>\n",
              "      <td>3</td>\n",
              "      <td>[carlyle, looks, toward, commercial, aerospace...</td>\n",
              "      <td>[reuters, private, investment, firm, carlyle, ...</td>\n",
              "    </tr>\n",
              "    <tr>\n",
              "      <th>2</th>\n",
              "      <td>3</td>\n",
              "      <td>[oil, and, economy, cloud, stocks, outlook, re...</td>\n",
              "      <td>[reuters, soaring, crude, prices, plus, worrie...</td>\n",
              "    </tr>\n",
              "    <tr>\n",
              "      <th>3</th>\n",
              "      <td>3</td>\n",
              "      <td>[iraq, halts, oil, exports, from, main, southe...</td>\n",
              "      <td>[reuters, authorities, have, halted, oil, expo...</td>\n",
              "    </tr>\n",
              "    <tr>\n",
              "      <th>4</th>\n",
              "      <td>3</td>\n",
              "      <td>[oil, prices, soar, to, alltime, record, posin...</td>\n",
              "      <td>[afp, tearaway, world, oil, prices, toppling, ...</td>\n",
              "    </tr>\n",
              "    <tr>\n",
              "      <th>...</th>\n",
              "      <td>...</td>\n",
              "      <td>...</td>\n",
              "      <td>...</td>\n",
              "    </tr>\n",
              "    <tr>\n",
              "      <th>119995</th>\n",
              "      <td>1</td>\n",
              "      <td>[pakistans, musharraf, says, wont, quit, as, a...</td>\n",
              "      <td>[karachi, reuters, pakistani, president, perve...</td>\n",
              "    </tr>\n",
              "    <tr>\n",
              "      <th>119996</th>\n",
              "      <td>2</td>\n",
              "      <td>[renteria, signing, a, topshelf, deal]</td>\n",
              "      <td>[red, sox, general, manager, theo, epstein, ac...</td>\n",
              "    </tr>\n",
              "    <tr>\n",
              "      <th>119997</th>\n",
              "      <td>2</td>\n",
              "      <td>[saban, not, going, to, dolphins, yet]</td>\n",
              "      <td>[the, miami, dolphins, will, put, their, court...</td>\n",
              "    </tr>\n",
              "    <tr>\n",
              "      <th>119998</th>\n",
              "      <td>2</td>\n",
              "      <td>[todays, nfl, games]</td>\n",
              "      <td>[pittsburgh, at, ny, giants, time, pm, line, s...</td>\n",
              "    </tr>\n",
              "    <tr>\n",
              "      <th>119999</th>\n",
              "      <td>2</td>\n",
              "      <td>[nets, get, carter, from, raptors]</td>\n",
              "      <td>[indianapolis, allstar, vince, carter, was, tr...</td>\n",
              "    </tr>\n",
              "  </tbody>\n",
              "</table>\n",
              "<p>120000 rows × 3 columns</p>\n",
              "</div>\n",
              "    <div class=\"colab-df-buttons\">\n",
              "\n",
              "  <div class=\"colab-df-container\">\n",
              "    <button class=\"colab-df-convert\" onclick=\"convertToInteractive('df-3967fd57-9855-4f83-8833-46db620ab453')\"\n",
              "            title=\"Convert this dataframe to an interactive table.\"\n",
              "            style=\"display:none;\">\n",
              "\n",
              "  <svg xmlns=\"http://www.w3.org/2000/svg\" height=\"24px\" viewBox=\"0 -960 960 960\">\n",
              "    <path d=\"M120-120v-720h720v720H120Zm60-500h600v-160H180v160Zm220 220h160v-160H400v160Zm0 220h160v-160H400v160ZM180-400h160v-160H180v160Zm440 0h160v-160H620v160ZM180-180h160v-160H180v160Zm440 0h160v-160H620v160Z\"/>\n",
              "  </svg>\n",
              "    </button>\n",
              "\n",
              "  <style>\n",
              "    .colab-df-container {\n",
              "      display:flex;\n",
              "      gap: 12px;\n",
              "    }\n",
              "\n",
              "    .colab-df-convert {\n",
              "      background-color: #E8F0FE;\n",
              "      border: none;\n",
              "      border-radius: 50%;\n",
              "      cursor: pointer;\n",
              "      display: none;\n",
              "      fill: #1967D2;\n",
              "      height: 32px;\n",
              "      padding: 0 0 0 0;\n",
              "      width: 32px;\n",
              "    }\n",
              "\n",
              "    .colab-df-convert:hover {\n",
              "      background-color: #E2EBFA;\n",
              "      box-shadow: 0px 1px 2px rgba(60, 64, 67, 0.3), 0px 1px 3px 1px rgba(60, 64, 67, 0.15);\n",
              "      fill: #174EA6;\n",
              "    }\n",
              "\n",
              "    .colab-df-buttons div {\n",
              "      margin-bottom: 4px;\n",
              "    }\n",
              "\n",
              "    [theme=dark] .colab-df-convert {\n",
              "      background-color: #3B4455;\n",
              "      fill: #D2E3FC;\n",
              "    }\n",
              "\n",
              "    [theme=dark] .colab-df-convert:hover {\n",
              "      background-color: #434B5C;\n",
              "      box-shadow: 0px 1px 3px 1px rgba(0, 0, 0, 0.15);\n",
              "      filter: drop-shadow(0px 1px 2px rgba(0, 0, 0, 0.3));\n",
              "      fill: #FFFFFF;\n",
              "    }\n",
              "  </style>\n",
              "\n",
              "    <script>\n",
              "      const buttonEl =\n",
              "        document.querySelector('#df-3967fd57-9855-4f83-8833-46db620ab453 button.colab-df-convert');\n",
              "      buttonEl.style.display =\n",
              "        google.colab.kernel.accessAllowed ? 'block' : 'none';\n",
              "\n",
              "      async function convertToInteractive(key) {\n",
              "        const element = document.querySelector('#df-3967fd57-9855-4f83-8833-46db620ab453');\n",
              "        const dataTable =\n",
              "          await google.colab.kernel.invokeFunction('convertToInteractive',\n",
              "                                                    [key], {});\n",
              "        if (!dataTable) return;\n",
              "\n",
              "        const docLinkHtml = 'Like what you see? Visit the ' +\n",
              "          '<a target=\"_blank\" href=https://colab.research.google.com/notebooks/data_table.ipynb>data table notebook</a>'\n",
              "          + ' to learn more about interactive tables.';\n",
              "        element.innerHTML = '';\n",
              "        dataTable['output_type'] = 'display_data';\n",
              "        await google.colab.output.renderOutput(dataTable, element);\n",
              "        const docLink = document.createElement('div');\n",
              "        docLink.innerHTML = docLinkHtml;\n",
              "        element.appendChild(docLink);\n",
              "      }\n",
              "    </script>\n",
              "  </div>\n",
              "\n",
              "\n",
              "<div id=\"df-296974e7-94b8-4382-8aeb-b2b5642d8436\">\n",
              "  <button class=\"colab-df-quickchart\" onclick=\"quickchart('df-296974e7-94b8-4382-8aeb-b2b5642d8436')\"\n",
              "            title=\"Suggest charts\"\n",
              "            style=\"display:none;\">\n",
              "\n",
              "<svg xmlns=\"http://www.w3.org/2000/svg\" height=\"24px\"viewBox=\"0 0 24 24\"\n",
              "     width=\"24px\">\n",
              "    <g>\n",
              "        <path d=\"M19 3H5c-1.1 0-2 .9-2 2v14c0 1.1.9 2 2 2h14c1.1 0 2-.9 2-2V5c0-1.1-.9-2-2-2zM9 17H7v-7h2v7zm4 0h-2V7h2v10zm4 0h-2v-4h2v4z\"/>\n",
              "    </g>\n",
              "</svg>\n",
              "  </button>\n",
              "\n",
              "<style>\n",
              "  .colab-df-quickchart {\n",
              "      --bg-color: #E8F0FE;\n",
              "      --fill-color: #1967D2;\n",
              "      --hover-bg-color: #E2EBFA;\n",
              "      --hover-fill-color: #174EA6;\n",
              "      --disabled-fill-color: #AAA;\n",
              "      --disabled-bg-color: #DDD;\n",
              "  }\n",
              "\n",
              "  [theme=dark] .colab-df-quickchart {\n",
              "      --bg-color: #3B4455;\n",
              "      --fill-color: #D2E3FC;\n",
              "      --hover-bg-color: #434B5C;\n",
              "      --hover-fill-color: #FFFFFF;\n",
              "      --disabled-bg-color: #3B4455;\n",
              "      --disabled-fill-color: #666;\n",
              "  }\n",
              "\n",
              "  .colab-df-quickchart {\n",
              "    background-color: var(--bg-color);\n",
              "    border: none;\n",
              "    border-radius: 50%;\n",
              "    cursor: pointer;\n",
              "    display: none;\n",
              "    fill: var(--fill-color);\n",
              "    height: 32px;\n",
              "    padding: 0;\n",
              "    width: 32px;\n",
              "  }\n",
              "\n",
              "  .colab-df-quickchart:hover {\n",
              "    background-color: var(--hover-bg-color);\n",
              "    box-shadow: 0 1px 2px rgba(60, 64, 67, 0.3), 0 1px 3px 1px rgba(60, 64, 67, 0.15);\n",
              "    fill: var(--button-hover-fill-color);\n",
              "  }\n",
              "\n",
              "  .colab-df-quickchart-complete:disabled,\n",
              "  .colab-df-quickchart-complete:disabled:hover {\n",
              "    background-color: var(--disabled-bg-color);\n",
              "    fill: var(--disabled-fill-color);\n",
              "    box-shadow: none;\n",
              "  }\n",
              "\n",
              "  .colab-df-spinner {\n",
              "    border: 2px solid var(--fill-color);\n",
              "    border-color: transparent;\n",
              "    border-bottom-color: var(--fill-color);\n",
              "    animation:\n",
              "      spin 1s steps(1) infinite;\n",
              "  }\n",
              "\n",
              "  @keyframes spin {\n",
              "    0% {\n",
              "      border-color: transparent;\n",
              "      border-bottom-color: var(--fill-color);\n",
              "      border-left-color: var(--fill-color);\n",
              "    }\n",
              "    20% {\n",
              "      border-color: transparent;\n",
              "      border-left-color: var(--fill-color);\n",
              "      border-top-color: var(--fill-color);\n",
              "    }\n",
              "    30% {\n",
              "      border-color: transparent;\n",
              "      border-left-color: var(--fill-color);\n",
              "      border-top-color: var(--fill-color);\n",
              "      border-right-color: var(--fill-color);\n",
              "    }\n",
              "    40% {\n",
              "      border-color: transparent;\n",
              "      border-right-color: var(--fill-color);\n",
              "      border-top-color: var(--fill-color);\n",
              "    }\n",
              "    60% {\n",
              "      border-color: transparent;\n",
              "      border-right-color: var(--fill-color);\n",
              "    }\n",
              "    80% {\n",
              "      border-color: transparent;\n",
              "      border-right-color: var(--fill-color);\n",
              "      border-bottom-color: var(--fill-color);\n",
              "    }\n",
              "    90% {\n",
              "      border-color: transparent;\n",
              "      border-bottom-color: var(--fill-color);\n",
              "    }\n",
              "  }\n",
              "</style>\n",
              "\n",
              "  <script>\n",
              "    async function quickchart(key) {\n",
              "      const quickchartButtonEl =\n",
              "        document.querySelector('#' + key + ' button');\n",
              "      quickchartButtonEl.disabled = true;  // To prevent multiple clicks.\n",
              "      quickchartButtonEl.classList.add('colab-df-spinner');\n",
              "      try {\n",
              "        const charts = await google.colab.kernel.invokeFunction(\n",
              "            'suggestCharts', [key], {});\n",
              "      } catch (error) {\n",
              "        console.error('Error during call to suggestCharts:', error);\n",
              "      }\n",
              "      quickchartButtonEl.classList.remove('colab-df-spinner');\n",
              "      quickchartButtonEl.classList.add('colab-df-quickchart-complete');\n",
              "    }\n",
              "    (() => {\n",
              "      let quickchartButtonEl =\n",
              "        document.querySelector('#df-296974e7-94b8-4382-8aeb-b2b5642d8436 button');\n",
              "      quickchartButtonEl.style.display =\n",
              "        google.colab.kernel.accessAllowed ? 'block' : 'none';\n",
              "    })();\n",
              "  </script>\n",
              "</div>\n",
              "    </div>\n",
              "  </div>\n"
            ]
          },
          "metadata": {},
          "execution_count": 15
        }
      ],
      "source": [
        "data"
      ]
    },
    {
      "cell_type": "markdown",
      "metadata": {
        "id": "Mmha7ae5CAQx"
      },
      "source": [
        "Vectorization"
      ]
    },
    {
      "cell_type": "markdown",
      "metadata": {
        "id": "3MQCyYU8CAQx"
      },
      "source": [
        "Count Vectorizer"
      ]
    },
    {
      "cell_type": "code",
      "execution_count": null,
      "metadata": {
        "colab": {
          "base_uri": "https://localhost:8080/"
        },
        "id": "wBTcKljbCAQx",
        "outputId": "62c3323a-828d-456d-df55-e470e8fdbe6b"
      },
      "outputs": [
        {
          "output_type": "stream",
          "name": "stdout",
          "text": [
            "['aaron' 'abbas' 'abbey' ... 'zone' 'zook' 'zurich']\n"
          ]
        }
      ],
      "source": [
        "from sklearn.feature_extraction.text import CountVectorizer\n",
        "import pandas as pd\n",
        "import nltk\n",
        "\n",
        "data['Title'] = data['Title'].apply(lambda x: ' '.join(map(str, x)))\n",
        "data['Description'] = data['Description'].apply(lambda x: ' '.join(map(str, x)))\n",
        "data['Combined_Text'] = data['Title'] + ' ' + data['Description']\n",
        "\n",
        "vectorizer = CountVectorizer(analyzer='word', stop_words='english',\n",
        "                             ngram_range=(1, 3), max_df=0.75,\n",
        "                             min_df=5, max_features=5000)\n",
        "\n",
        "countMat = vectorizer.fit_transform(data['Combined_Text'])\n",
        "\n",
        "feature_names = vectorizer.get_feature_names_out()\n",
        "print(feature_names)\n"
      ]
    },
    {
      "cell_type": "code",
      "execution_count": null,
      "metadata": {
        "colab": {
          "base_uri": "https://localhost:8080/"
        },
        "id": "lgNivPbqCAQy",
        "outputId": "b7b92393-ebe7-41dc-b578-2f99c57f5ce2"
      },
      "outputs": [
        {
          "output_type": "execute_result",
          "data": {
            "text/plain": [
              "5000"
            ]
          },
          "metadata": {},
          "execution_count": 17
        }
      ],
      "source": [
        "len(feature_names)"
      ]
    },
    {
      "cell_type": "code",
      "execution_count": null,
      "metadata": {
        "colab": {
          "base_uri": "https://localhost:8080/"
        },
        "id": "38GCheUVCAQy",
        "outputId": "3d01cbce-5f23-4ec0-dace-845d4f141597"
      },
      "outputs": [
        {
          "output_type": "stream",
          "name": "stdout",
          "text": [
            "  (0, 4784)\t2\n",
            "  (0, 4185)\t1\n",
            "  (0, 408)\t1\n",
            "  (0, 465)\t1\n",
            "  (0, 3690)\t2\n",
            "  (0, 4265)\t1\n",
            "  (0, 3923)\t1\n",
            "  (0, 1808)\t1\n",
            "  (0, 3697)\t1\n",
            "  (1, 3690)\t2\n",
            "  (1, 3697)\t1\n",
            "  (1, 2472)\t1\n",
            "  (1, 863)\t1\n",
            "  (1, 67)\t1\n",
            "  (1, 3359)\t1\n",
            "  (1, 2152)\t1\n",
            "  (1, 1600)\t1\n",
            "  (1, 3647)\t1\n",
            "  (1, 2533)\t1\n",
            "  (1, 3229)\t1\n",
            "  (1, 1111)\t1\n",
            "  (1, 2083)\t1\n",
            "  (1, 3474)\t1\n",
            "  (1, 2569)\t1\n",
            "  (2, 3690)\t2\n",
            "  :\t:\n",
            "  (119998, 1256)\t1\n",
            "  (119998, 4560)\t1\n",
            "  (119998, 560)\t1\n",
            "  (119998, 2550)\t1\n",
            "  (119998, 1337)\t1\n",
            "  (119998, 4226)\t3\n",
            "  (119999, 2849)\t1\n",
            "  (119999, 3070)\t1\n",
            "  (119999, 4977)\t1\n",
            "  (119999, 1395)\t1\n",
            "  (119999, 2225)\t1\n",
            "  (119999, 4876)\t2\n",
            "  (119999, 655)\t2\n",
            "  (119999, 2853)\t1\n",
            "  (119999, 4537)\t1\n",
            "  (119999, 1603)\t1\n",
            "  (119999, 1256)\t1\n",
            "  (119999, 3188)\t1\n",
            "  (119999, 2844)\t2\n",
            "  (119999, 144)\t1\n",
            "  (119999, 4560)\t1\n",
            "  (119999, 0)\t1\n",
            "  (119999, 2072)\t1\n",
            "  (119999, 3521)\t2\n",
            "  (119999, 2761)\t1\n"
          ]
        }
      ],
      "source": [
        "print(countMat)"
      ]
    },
    {
      "cell_type": "markdown",
      "metadata": {
        "id": "LJEf2jg-CAQy"
      },
      "source": [
        "Splitting up the dataset"
      ]
    },
    {
      "cell_type": "code",
      "execution_count": null,
      "metadata": {
        "id": "ju1YQkOBCAQy"
      },
      "outputs": [],
      "source": [
        "from sklearn.model_selection import train_test_split\n",
        "X_train,X_test,y_train,y_test=train_test_split(countMat,\n",
        "                                                    data['Class Index'],\n",
        "                                                    stratify=data['Class Index'],\n",
        "                                                    random_state=1)"
      ]
    },
    {
      "cell_type": "code",
      "execution_count": null,
      "metadata": {
        "colab": {
          "base_uri": "https://localhost:8080/"
        },
        "id": "2VznzOzVCAQy",
        "outputId": "0dd47ea5-419f-47a2-f985-6aeea1a89176"
      },
      "outputs": [
        {
          "output_type": "stream",
          "name": "stdout",
          "text": [
            "Train_Set_Size:(90000, 5000)\n",
            "Test_Set_Size:(30000, 5000)\n",
            "Train_Set_Size:(90000,)\n",
            "Test_Set_Size:(30000,)\n"
          ]
        }
      ],
      "source": [
        "print('Train_Set_Size:'+str(X_train.shape))\n",
        "print('Test_Set_Size:'+str(X_test.shape))\n",
        "print('Train_Set_Size:'+str(y_train.shape))\n",
        "print('Test_Set_Size:'+str(y_test.shape))"
      ]
    },
    {
      "cell_type": "markdown",
      "metadata": {
        "id": "MhE0dso_CAQy"
      },
      "source": [
        "Logistic Regression with CountVectorizer"
      ]
    },
    {
      "cell_type": "code",
      "execution_count": null,
      "metadata": {
        "id": "Ku44wIoUCAQy"
      },
      "outputs": [],
      "source": [
        "from sklearn.linear_model import LogisticRegression\n",
        "\n",
        "logistic = LogisticRegression(random_state=10,max_iter=10000)\n",
        "\n",
        "best_model=logistic.fit(X_train, y_train)\n",
        "\n",
        "y_pred = best_model.predict(X_test)\n"
      ]
    },
    {
      "cell_type": "code",
      "execution_count": null,
      "metadata": {
        "id": "Bg2xW8T_CAQz"
      },
      "outputs": [],
      "source": [
        "algorithm=[]\n",
        "precision=[]\n",
        "recall=[]\n",
        "accuracys=[]"
      ]
    },
    {
      "cell_type": "code",
      "execution_count": null,
      "metadata": {
        "colab": {
          "base_uri": "https://localhost:8080/"
        },
        "id": "0acvo8edCAQz",
        "outputId": "be659397-9783-43a4-b754-23393ccbb056"
      },
      "outputs": [
        {
          "output_type": "stream",
          "name": "stdout",
          "text": [
            "              precision    recall  f1-score   support\n",
            "\n",
            "           1       0.90      0.89      0.89      7500\n",
            "           2       0.95      0.96      0.95      7500\n",
            "           3       0.87      0.86      0.86      7500\n",
            "           4       0.87      0.87      0.87      7500\n",
            "\n",
            "    accuracy                           0.90     30000\n",
            "   macro avg       0.90      0.90      0.90     30000\n",
            "weighted avg       0.90      0.90      0.90     30000\n",
            "\n"
          ]
        }
      ],
      "source": [
        "from sklearn.metrics import classification_report,confusion_matrix\n",
        "cm=confusion_matrix(y_test,y_pred)\n",
        "print(classification_report(y_test,y_pred,zero_division=0))"
      ]
    },
    {
      "cell_type": "code",
      "execution_count": null,
      "metadata": {
        "id": "2GHMpuEGCAQz"
      },
      "outputs": [],
      "source": [
        "from sklearn.metrics import precision_score,recall_score,accuracy_score\n",
        "algorithm.append(\"Logistic Regression with CountVectorizer\")\n",
        "precision.append(precision_score(y_test,y_pred,zero_division=0,average='macro'))\n",
        "recall.append(recall_score(y_test,y_pred,zero_division=0,average='macro'))\n",
        "accuracys.append(accuracy_score(y_test,y_pred))"
      ]
    },
    {
      "cell_type": "markdown",
      "metadata": {
        "id": "LUxgcoHnCAQz"
      },
      "source": [
        "SVM with CountVectorizer"
      ]
    },
    {
      "cell_type": "code",
      "execution_count": null,
      "metadata": {
        "colab": {
          "base_uri": "https://localhost:8080/"
        },
        "id": "wSaMfTscCAQz",
        "outputId": "450e885f-4a8c-43a8-96ed-add026d56696"
      },
      "outputs": [
        {
          "output_type": "stream",
          "name": "stderr",
          "text": [
            "/usr/local/lib/python3.10/dist-packages/sklearn/svm/_base.py:299: ConvergenceWarning: Solver terminated early (max_iter=1000).  Consider pre-processing your data with StandardScaler or MinMaxScaler.\n",
            "  warnings.warn(\n"
          ]
        },
        {
          "output_type": "stream",
          "name": "stdout",
          "text": [
            "Accuracy: 0.7888333333333334\n"
          ]
        }
      ],
      "source": [
        "from sklearn import svm\n",
        "from sklearn.metrics import accuracy_score\n",
        "# Create an SVM classifier\n",
        "clf = svm.SVC(max_iter=1000)\n",
        "\n",
        "# Train the classifier\n",
        "clf.fit(X_train, y_train)\n",
        "\n",
        "# Make predictions on the test set\n",
        "y_pred = clf.predict(X_test)\n",
        "\n",
        "# Evaluate the accuracy\n",
        "accuracy = accuracy_score(y_test, y_pred)\n",
        "print(f\"Accuracy: {accuracy}\")"
      ]
    },
    {
      "cell_type": "code",
      "execution_count": null,
      "metadata": {
        "colab": {
          "base_uri": "https://localhost:8080/"
        },
        "id": "oToJzL6cCAQz",
        "outputId": "3819f0e2-67aa-4aaa-c1e4-644ee69aedb7"
      },
      "outputs": [
        {
          "output_type": "stream",
          "name": "stdout",
          "text": [
            "              precision    recall  f1-score   support\n",
            "\n",
            "           1       0.80      0.78      0.79      7500\n",
            "           2       0.95      0.91      0.93      7500\n",
            "           3       0.78      0.71      0.74      7500\n",
            "           4       0.66      0.75      0.70      7500\n",
            "\n",
            "    accuracy                           0.79     30000\n",
            "   macro avg       0.79      0.79      0.79     30000\n",
            "weighted avg       0.79      0.79      0.79     30000\n",
            "\n"
          ]
        }
      ],
      "source": [
        "cm=confusion_matrix(y_test,y_pred)\n",
        "print(classification_report(y_test,y_pred,zero_division=0))\n",
        "from sklearn.metrics import precision_score,recall_score,accuracy_score\n",
        "algorithm.append(\"SVM with CountVectorizer\")\n",
        "precision.append(precision_score(y_test,y_pred,zero_division=0,average='macro'))\n",
        "recall.append(recall_score(y_test,y_pred,zero_division=0,average='macro'))"
      ]
    },
    {
      "cell_type": "code",
      "execution_count": null,
      "metadata": {
        "id": "xR78DJk7PtGC"
      },
      "outputs": [],
      "source": [
        "accuracys.append(accuracy_score(y_test,y_pred))"
      ]
    },
    {
      "cell_type": "markdown",
      "metadata": {
        "id": "xvoCUP0sCAQz"
      },
      "source": [
        "Random Forest with Count Vectorizer"
      ]
    },
    {
      "cell_type": "code",
      "execution_count": null,
      "metadata": {
        "colab": {
          "base_uri": "https://localhost:8080/"
        },
        "id": "wANlV8tpCAQz",
        "outputId": "392d7392-b7e3-4392-feb5-af7192e1f54d"
      },
      "outputs": [
        {
          "output_type": "stream",
          "name": "stdout",
          "text": [
            "Random Forest Accuracy: 0.8817333333333334\n"
          ]
        }
      ],
      "source": [
        "from sklearn.ensemble import RandomForestClassifier\n",
        "# Create a Random Forest classifier\n",
        "clf = RandomForestClassifier(n_estimators=50,random_state=100)\n",
        "# Train the classifier\n",
        "clf.fit(X_train, y_train)\n",
        "\n",
        "# Make predictions on the test set\n",
        "y_pred = clf.predict(X_test)\n",
        "\n",
        "# Evaluate the accuracy\n",
        "accuracy = accuracy_score(y_test, y_pred)\n",
        "print(f\"Random Forest Accuracy: {accuracy}\")"
      ]
    },
    {
      "cell_type": "code",
      "execution_count": null,
      "metadata": {
        "colab": {
          "base_uri": "https://localhost:8080/"
        },
        "id": "TMtETc2RCAQ3",
        "outputId": "d25d14ac-9ac6-481b-adfe-bceb5b2090c2"
      },
      "outputs": [
        {
          "output_type": "stream",
          "name": "stdout",
          "text": [
            "              precision    recall  f1-score   support\n",
            "\n",
            "           1       0.90      0.87      0.89      7500\n",
            "           2       0.92      0.96      0.94      7500\n",
            "           3       0.86      0.85      0.85      7500\n",
            "           4       0.85      0.84      0.85      7500\n",
            "\n",
            "    accuracy                           0.88     30000\n",
            "   macro avg       0.88      0.88      0.88     30000\n",
            "weighted avg       0.88      0.88      0.88     30000\n",
            "\n"
          ]
        }
      ],
      "source": [
        "cm=confusion_matrix(y_test,y_pred)\n",
        "print(classification_report(y_test,y_pred,zero_division=0))\n",
        "from sklearn.metrics import precision_score,recall_score,accuracy_score\n",
        "algorithm.append(\"Random Forest with CountVectorizer\")\n",
        "precision.append(precision_score(y_test,y_pred,zero_division=0,average='macro'))\n",
        "recall.append(recall_score(y_test,y_pred,zero_division=0,average='macro'))\n",
        "accuracys.append(accuracy_score(y_test,y_pred))"
      ]
    },
    {
      "cell_type": "markdown",
      "metadata": {
        "id": "TTKoUwv7CAQ5"
      },
      "source": [
        "TFIDF"
      ]
    },
    {
      "cell_type": "code",
      "source": [
        "import nltk\n",
        "from nltk.tokenize import word_tokenize\n",
        "from nltk.tokenize import sent_tokenize\n",
        "from nltk.stem import WordNetLemmatizer\n",
        "nltk.download('stopwords')\n",
        "nltk.download('punkt')\n",
        "nltk.download('wordnet')\n",
        "from nltk.corpus import stopwords\n",
        "import pandas as pd\n",
        "import matplotlib.pyplot as plt\n",
        "import seaborn as sns"
      ],
      "metadata": {
        "colab": {
          "base_uri": "https://localhost:8080/"
        },
        "id": "5lw1Mhn-RBwc",
        "outputId": "515bc715-9478-4c62-aa64-bbe63397c4b5"
      },
      "execution_count": null,
      "outputs": [
        {
          "output_type": "stream",
          "name": "stderr",
          "text": [
            "[nltk_data] Downloading package stopwords to /root/nltk_data...\n",
            "[nltk_data]   Package stopwords is already up-to-date!\n",
            "[nltk_data] Downloading package punkt to /root/nltk_data...\n",
            "[nltk_data]   Package punkt is already up-to-date!\n",
            "[nltk_data] Downloading package wordnet to /root/nltk_data...\n",
            "[nltk_data]   Package wordnet is already up-to-date!\n"
          ]
        }
      ]
    },
    {
      "cell_type": "code",
      "source": [
        "data=pd.read_csv('/kaggle/input/ag-news-classification-dataset/train.csv')\n",
        "data\n",
        "import re\n",
        "import string\n",
        "\n",
        "def clean_text(text ):\n",
        "    text =''.join(word for word in text if word not in string.punctuation)\n",
        "    text1 = ''.join(w.lower() for w in text if not w.isdigit())\n",
        "    return text1\n",
        "# Lemmatization of text data\n",
        "def lemmatize_text(text):\n",
        "    wordlist = []\n",
        "    lemmatizer = WordNetLemmatizer()\n",
        "    # Sentence tokenization\n",
        "    sentences = nltk.sent_tokenize(str(text))\n",
        "\n",
        "    intial_sentences = sentences[0:1]\n",
        "    final_sentences = sentences[len(sentences)-2: len(sentences)-1]\n",
        "\n",
        "    # Word tokenization\n",
        "    for sentence in intial_sentences:\n",
        "        words = nltk.word_tokenize(sentence)\n",
        "        for word in words:\n",
        "            wordlist.append(word)\n",
        "\n",
        "    for sentence in final_sentences:\n",
        "        words = nltk.word_tokenize(sentence)\n",
        "        for word in words:\n",
        "            wordlist.append(word)\n",
        "\n",
        "    return wordlist\n",
        "# Apply the functions on Description column\n",
        "\n",
        "# Clean\n",
        "data['Description'] = data['Description'].apply(lambda x: clean_text(x))\n",
        "# Lemmatize\n",
        "data['Description'] = data['Description'].apply(lambda x: lemmatize_text(x))\n",
        "# Apply the functions on Title column\n",
        "\n",
        "# Clean\n",
        "data['Title'] = data['Title'].apply(lambda x: clean_text(x))\n",
        "# Lemmatize\n",
        "data['Title'] = data['Title'].apply(lambda x: lemmatize_text(x))"
      ],
      "metadata": {
        "id": "szcxmqiQ3NP_"
      },
      "execution_count": null,
      "outputs": []
    },
    {
      "cell_type": "code",
      "execution_count": null,
      "metadata": {
        "id": "NigQwjI0CAQ6",
        "colab": {
          "base_uri": "https://localhost:8080/"
        },
        "outputId": "a11d4e37-902e-4b42-a476-4ecda357236e"
      },
      "outputs": [
        {
          "output_type": "stream",
          "name": "stdout",
          "text": [
            "/bin/bash: line 1: conda: command not found\n"
          ]
        }
      ],
      "source": [
        "#Setup Gdrive file download extention\n",
        "!conda install -y gdown"
      ]
    },
    {
      "cell_type": "code",
      "execution_count": null,
      "metadata": {
        "id": "LwMOoZwVCAQ6"
      },
      "outputs": [],
      "source": [
        "from sklearn.feature_extraction.text import TfidfVectorizer\n",
        "from sklearn.decomposition import PCA\n",
        "from sklearn.linear_model import LogisticRegression\n",
        "from sklearn.model_selection import train_test_split\n",
        "\n",
        "from sklearn.metrics import confusion_matrix\n",
        "from sklearn.metrics import classification_report"
      ]
    },
    {
      "cell_type": "code",
      "execution_count": null,
      "metadata": {
        "id": "5FJUPj7cCAQ7",
        "colab": {
          "base_uri": "https://localhost:8080/"
        },
        "outputId": "f3ccd812-7f14-4146-97a4-c012cd8c655a"
      },
      "outputs": [
        {
          "output_type": "stream",
          "name": "stdout",
          "text": [
            "['aaron' 'abbas' 'abbey' ... 'zone' 'zook' 'zurich']\n"
          ]
        }
      ],
      "source": [
        "from sklearn.feature_extraction.text import TfidfVectorizer\n",
        "import pandas as pd\n",
        "import nltk\n",
        "\n",
        "# Assuming data is your DataFrame with 'Title' and 'Description' columns\n",
        "# Concatenate 'Title' and 'Description' into a new column 'Combined_Text'\n",
        "# Convert list elements to strings in 'Title' and 'Description' columns\n",
        "data['Title'] = data['Title'].apply(lambda x: ' '.join(map(str, x)))\n",
        "data['Description'] = data['Description'].apply(lambda x: ' '.join(map(str, x)))\n",
        "data['Combined_Text1'] = data['Title'] + ' ' + data['Description']\n",
        "\n",
        "# Text to TFIDF values\n",
        "vectorizer = TfidfVectorizer(analyzer='word', stop_words='english',\n",
        "                             ngram_range=(1,3), max_df=0.75,\n",
        "                             min_df=5, use_idf=True,\n",
        "                             smooth_idf=True, max_features=5000)\n",
        "\n",
        "# Fit and transform on the combined text\n",
        "tfIdfMat = vectorizer.fit_transform(data['Combined_Text1'])\n",
        "\n",
        "# Feature names\n",
        "feature_names = vectorizer.get_feature_names_out()\n",
        "print(feature_names)\n"
      ]
    },
    {
      "cell_type": "code",
      "execution_count": null,
      "metadata": {
        "colab": {
          "base_uri": "https://localhost:8080/"
        },
        "id": "FQeIuMmYCAQ7",
        "outputId": "7d510414-5aa9-4d11-b4b0-8139b39f1c0f"
      },
      "outputs": [
        {
          "output_type": "execute_result",
          "data": {
            "text/plain": [
              "5000"
            ]
          },
          "metadata": {},
          "execution_count": 35
        }
      ],
      "source": [
        "len(feature_names)"
      ]
    },
    {
      "cell_type": "code",
      "execution_count": null,
      "metadata": {
        "id": "cU8xOiCICAQ7",
        "colab": {
          "base_uri": "https://localhost:8080/"
        },
        "outputId": "7daed480-13e8-4e8c-c747-00d8d47c4462"
      },
      "outputs": [
        {
          "output_type": "stream",
          "name": "stdout",
          "text": [
            "  (0, 3697)\t0.20416333933538133\n",
            "  (0, 1808)\t0.2916383390945243\n",
            "  (0, 3923)\t0.3662410513332103\n",
            "  (0, 4265)\t0.3282299868021922\n",
            "  (0, 3690)\t0.3031798240981977\n",
            "  (0, 465)\t0.2984038026011137\n",
            "  (0, 408)\t0.33145940575157334\n",
            "  (0, 4185)\t0.2576709294232108\n",
            "  (0, 4784)\t0.5236167467201227\n",
            "  (1, 2569)\t0.19015460667971254\n",
            "  (1, 3474)\t0.31755177611896085\n",
            "  (1, 2083)\t0.2089761608163279\n",
            "  (1, 1111)\t0.2347905376192947\n",
            "  (1, 3229)\t0.28921628809359123\n",
            "  (1, 2533)\t0.2334059642116115\n",
            "  (1, 3647)\t0.324651047376396\n",
            "  (1, 1600)\t0.2177614789143695\n",
            "  (1, 2152)\t0.24979251636574282\n",
            "  (1, 3359)\t0.2548978279585812\n",
            "  (1, 67)\t0.325362012567013\n",
            "  (1, 863)\t0.26887072677506973\n",
            "  (1, 2472)\t0.25795193528089494\n",
            "  (1, 3697)\t0.17769150040013224\n",
            "  (1, 3690)\t0.26386949787571806\n",
            "  (2, 4239)\t0.27066551006170925\n",
            "  :\t:\n",
            "  (119998, 445)\t0.09748241957288963\n",
            "  (119998, 4468)\t0.12706306954135774\n",
            "  (119998, 1073)\t0.08876011291201012\n",
            "  (119998, 342)\t0.1208431397573693\n",
            "  (119998, 4971)\t0.07677839001519952\n",
            "  (119998, 3567)\t0.1330840566948046\n",
            "  (119999, 2761)\t0.2012557047912023\n",
            "  (119999, 3521)\t0.39143727216831725\n",
            "  (119999, 2072)\t0.1792455520746487\n",
            "  (119999, 0)\t0.19897888379063786\n",
            "  (119999, 4560)\t0.18308711836815422\n",
            "  (119999, 144)\t0.19515194531933633\n",
            "  (119999, 2844)\t0.36902176530528197\n",
            "  (119999, 3188)\t0.18890364477623464\n",
            "  (119999, 1256)\t0.17799148996416797\n",
            "  (119999, 1603)\t0.19571863608415863\n",
            "  (119999, 4537)\t0.1527934096432144\n",
            "  (119999, 2853)\t0.18847087711435212\n",
            "  (119999, 655)\t0.38432525441535526\n",
            "  (119999, 4876)\t0.3088540143489719\n",
            "  (119999, 2225)\t0.1836705427549291\n",
            "  (119999, 1395)\t0.19919746834902805\n",
            "  (119999, 4977)\t0.09999614706933357\n",
            "  (119999, 3070)\t0.17440372271622662\n",
            "  (119999, 2849)\t0.07282630458739535\n"
          ]
        }
      ],
      "source": [
        "print(tfIdfMat)"
      ]
    },
    {
      "cell_type": "code",
      "execution_count": null,
      "metadata": {
        "id": "U7RDxuT-CAQ7"
      },
      "outputs": [],
      "source": [
        "# Train-test split of the reduced data\n",
        "X_train, X_test, y_train, y_test = train_test_split(tfIdfMat,\n",
        "                                                    data['Class Index'],\n",
        "                                                    stratify=data['Class Index'],\n",
        "                                                    random_state=1)"
      ]
    },
    {
      "cell_type": "code",
      "execution_count": null,
      "metadata": {
        "id": "SHMyOVYPCAQ7",
        "colab": {
          "base_uri": "https://localhost:8080/"
        },
        "outputId": "5d48187b-66c8-42d3-abc3-546991c41f0d"
      },
      "outputs": [
        {
          "output_type": "stream",
          "name": "stdout",
          "text": [
            "Train_Set_Size:(90000, 5000)\n",
            "Test_Set_Size:(30000, 5000)\n",
            "Train_Set_Size:(90000,)\n",
            "Test_Set_Size:(30000,)\n"
          ]
        }
      ],
      "source": [
        "print('Train_Set_Size:'+str(X_train.shape))\n",
        "print('Test_Set_Size:'+str(X_test.shape))\n",
        "print('Train_Set_Size:'+str(y_train.shape))\n",
        "print('Test_Set_Size:'+str(y_test.shape))"
      ]
    },
    {
      "cell_type": "markdown",
      "metadata": {
        "id": "EQRzq_PwCAQ8"
      },
      "source": [
        "Logistic Regression with TFIDF"
      ]
    },
    {
      "cell_type": "code",
      "execution_count": null,
      "metadata": {
        "id": "5Oes237FCAQ8"
      },
      "outputs": [],
      "source": [
        "# Classifier\n",
        "clf = LogisticRegression(penalty= 'elasticnet', solver= 'saga',\n",
        "                         l1_ratio=0.5, random_state=1).fit(X_train,y_train)\n",
        "\n",
        "y_pred = clf.predict(X_test)"
      ]
    },
    {
      "cell_type": "code",
      "execution_count": null,
      "metadata": {
        "id": "4gYXzZiRCAQ8",
        "colab": {
          "base_uri": "https://localhost:8080/"
        },
        "outputId": "7f4e06de-0195-4c4e-bdd2-d0775d88d12a"
      },
      "outputs": [
        {
          "output_type": "stream",
          "name": "stdout",
          "text": [
            "              precision    recall  f1-score   support\n",
            "\n",
            "           1       0.92      0.90      0.91      7500\n",
            "           2       0.95      0.97      0.96      7500\n",
            "           3       0.88      0.88      0.88      7500\n",
            "           4       0.88      0.88      0.88      7500\n",
            "\n",
            "    accuracy                           0.91     30000\n",
            "   macro avg       0.91      0.91      0.91     30000\n",
            "weighted avg       0.91      0.91      0.91     30000\n",
            "\n",
            "              precision    recall  f1-score   support\n",
            "\n",
            "           1       0.92      0.90      0.91      7500\n",
            "           2       0.95      0.97      0.96      7500\n",
            "           3       0.88      0.88      0.88      7500\n",
            "           4       0.88      0.88      0.88      7500\n",
            "\n",
            "    accuracy                           0.91     30000\n",
            "   macro avg       0.91      0.91      0.91     30000\n",
            "weighted avg       0.91      0.91      0.91     30000\n",
            "\n"
          ]
        }
      ],
      "source": [
        "# Performance measure\n",
        "from sklearn.metrics import confusion_matrix,classification_report\n",
        "\n",
        "cm = confusion_matrix(y_test,y_pred)\n",
        "\n",
        "print(classification_report(y_test, y_pred,zero_division=0))\n",
        "cm=confusion_matrix(y_test,y_pred)\n",
        "print(classification_report(y_test,y_pred,zero_division=0))\n",
        "from sklearn.metrics import precision_score,recall_score,accuracy_score\n",
        "algorithm.append(\"Logistic Regression with TFIDF\")\n",
        "precision.append(precision_score(y_test,y_pred,zero_division=0,average='macro'))\n",
        "recall.append(recall_score(y_test,y_pred,zero_division=0,average='macro'))\n",
        "accuracys.append(accuracy_score(y_test,y_pred))"
      ]
    },
    {
      "cell_type": "markdown",
      "metadata": {
        "id": "B2EL4ufCCAQ8"
      },
      "source": [
        "SVM Classifier with TFIDF"
      ]
    },
    {
      "cell_type": "code",
      "execution_count": null,
      "metadata": {
        "id": "-bgyTM_kCAQ8",
        "colab": {
          "base_uri": "https://localhost:8080/"
        },
        "outputId": "c6305780-777c-4ba5-e660-890b005f7deb"
      },
      "outputs": [
        {
          "output_type": "stream",
          "name": "stderr",
          "text": [
            "/usr/local/lib/python3.10/dist-packages/sklearn/svm/_base.py:299: ConvergenceWarning: Solver terminated early (max_iter=1000).  Consider pre-processing your data with StandardScaler or MinMaxScaler.\n",
            "  warnings.warn(\n"
          ]
        },
        {
          "output_type": "stream",
          "name": "stdout",
          "text": [
            "Accuracy: 0.7159333333333333\n"
          ]
        }
      ],
      "source": [
        "from sklearn import svm\n",
        "from sklearn.metrics import accuracy_score\n",
        "# Create an SVM classifier\n",
        "clf = svm.SVC(max_iter=1000)\n",
        "\n",
        "# Train the classifier\n",
        "clf.fit(X_train, y_train)\n",
        "\n",
        "# Make predictions on the test set\n",
        "y_pred = clf.predict(X_test)\n",
        "\n",
        "# Evaluate the accuracy\n",
        "accuracy = accuracy_score(y_test, y_pred)\n",
        "print(f\"Accuracy: {accuracy}\")"
      ]
    },
    {
      "cell_type": "code",
      "execution_count": null,
      "metadata": {
        "id": "utqbOR06CAQ8",
        "colab": {
          "base_uri": "https://localhost:8080/"
        },
        "outputId": "31b1e529-51f6-4900-8ade-e06ecbbb04fe"
      },
      "outputs": [
        {
          "output_type": "stream",
          "name": "stdout",
          "text": [
            "              precision    recall  f1-score   support\n",
            "\n",
            "           1       0.74      0.87      0.80      7500\n",
            "           2       0.91      0.96      0.93      7500\n",
            "           3       0.56      0.92      0.70      7500\n",
            "           4       0.93      0.11      0.20      7500\n",
            "\n",
            "    accuracy                           0.72     30000\n",
            "   macro avg       0.79      0.72      0.66     30000\n",
            "weighted avg       0.79      0.72      0.66     30000\n",
            "\n"
          ]
        }
      ],
      "source": [
        "# Performance measure\n",
        "from sklearn.metrics import confusion_matrix,classification_report\n",
        "\n",
        "cm = confusion_matrix(y_test,y_pred)\n",
        "\n",
        "print(classification_report(y_test, y_pred,zero_division=0))\n",
        "from sklearn.metrics import precision_score,recall_score,accuracy_score\n",
        "algorithm.append(\"Support Vector Machine with TFIDF\")\n",
        "precision.append(precision_score(y_test,y_pred,zero_division=0,average='macro'))\n",
        "recall.append(recall_score(y_test,y_pred,zero_division=0,average='macro'))\n",
        "accuracys.append(accuracy_score(y_test,y_pred))"
      ]
    },
    {
      "cell_type": "markdown",
      "metadata": {
        "id": "TafV_cp9CAQ9"
      },
      "source": [
        "Random Forest Classifier with TFIDF"
      ]
    },
    {
      "cell_type": "code",
      "execution_count": null,
      "metadata": {
        "id": "A4eCxKNcCAQ9"
      },
      "outputs": [],
      "source": [
        "from sklearn.ensemble import RandomForestClassifier"
      ]
    },
    {
      "cell_type": "code",
      "execution_count": null,
      "metadata": {
        "id": "NEUUOwPTCAQ9",
        "colab": {
          "base_uri": "https://localhost:8080/"
        },
        "outputId": "7787a935-d67e-4296-b921-7ea071a3c033"
      },
      "outputs": [
        {
          "output_type": "stream",
          "name": "stdout",
          "text": [
            "Random Forest Accuracy: 0.8813333333333333\n",
            "              precision    recall  f1-score   support\n",
            "\n",
            "           1       0.90      0.88      0.89      7500\n",
            "           2       0.91      0.96      0.93      7500\n",
            "           3       0.86      0.85      0.86      7500\n",
            "           4       0.86      0.84      0.85      7500\n",
            "\n",
            "    accuracy                           0.88     30000\n",
            "   macro avg       0.88      0.88      0.88     30000\n",
            "weighted avg       0.88      0.88      0.88     30000\n",
            "\n"
          ]
        }
      ],
      "source": [
        "# Create a Random Forest classifier\n",
        "clf = RandomForestClassifier(n_estimators=50,random_state=100)\n",
        "# Train the classifier\n",
        "clf.fit(X_train, y_train)\n",
        "\n",
        "# Make predictions on the test set\n",
        "y_pred = clf.predict(X_test)\n",
        "\n",
        "# Evaluate the accuracy\n",
        "accuracy = accuracy_score(y_test, y_pred)\n",
        "print(f\"Random Forest Accuracy: {accuracy}\")\n",
        "cm = confusion_matrix(y_test,y_pred)\n",
        "\n",
        "print(classification_report(y_test, y_pred,zero_division=0))\n",
        "from sklearn.metrics import precision_score,recall_score,accuracy_score\n",
        "algorithm.append(\"Random Forest with TFIDF\")\n",
        "precision.append(precision_score(y_test,y_pred,zero_division=0,average='macro'))\n",
        "recall.append(recall_score(y_test,y_pred,zero_division=0,average='macro'))\n",
        "accuracys.append(accuracy_score(y_test,y_pred))"
      ]
    },
    {
      "cell_type": "markdown",
      "metadata": {
        "id": "1MOevNZgCAQ9"
      },
      "source": [
        "KNN Classifier with TFIDF"
      ]
    },
    {
      "cell_type": "code",
      "execution_count": null,
      "metadata": {
        "id": "O8oznzN2CAQ9",
        "colab": {
          "base_uri": "https://localhost:8080/"
        },
        "outputId": "2cd47e51-6a4a-4416-c894-c9d9ce262171"
      },
      "outputs": [
        {
          "output_type": "stream",
          "name": "stdout",
          "text": [
            "              precision    recall  f1-score   support\n",
            "\n",
            "           1       0.90      0.88      0.89      7500\n",
            "           2       0.91      0.96      0.93      7500\n",
            "           3       0.86      0.85      0.86      7500\n",
            "           4       0.86      0.84      0.85      7500\n",
            "\n",
            "    accuracy                           0.88     30000\n",
            "   macro avg       0.88      0.88      0.88     30000\n",
            "weighted avg       0.88      0.88      0.88     30000\n",
            "\n"
          ]
        }
      ],
      "source": [
        "from sklearn.neighbors import KNeighborsClassifier\n",
        "knn = KNeighborsClassifier(n_neighbors=10)\n",
        "\n",
        "knn.fit(X_train, y_train)\n",
        "\n",
        "# Performance measure\n",
        "from sklearn.metrics import confusion_matrix,classification_report\n",
        "\n",
        "cm = confusion_matrix(y_test,y_pred)\n",
        "\n",
        "print(classification_report(y_test, y_pred, zero_division=0))\n",
        "algorithm.append(\"KNN Classifier with TFIDF\")\n",
        "precision.append(precision_score(y_test,y_pred,zero_division=0,average='macro'))\n",
        "recall.append(recall_score(y_test,y_pred,zero_division=0,average='macro'))\n",
        "accuracys.append(accuracy_score(y_test,y_pred))"
      ]
    },
    {
      "cell_type": "markdown",
      "metadata": {
        "id": "HLuptpwkCAQ9"
      },
      "source": [
        "MultinomialNB(Navie Bayes) with TFIDF"
      ]
    },
    {
      "cell_type": "code",
      "execution_count": null,
      "metadata": {
        "id": "hZuaZBEVCAQ9",
        "colab": {
          "base_uri": "https://localhost:8080/"
        },
        "outputId": "6d473833-92d0-4649-e073-361c6b8995ea"
      },
      "outputs": [
        {
          "output_type": "stream",
          "name": "stdout",
          "text": [
            "Confusion Matrix:\n",
            " [[6624  281  336  259]\n",
            " [  85 7310   42   63]\n",
            " [ 271   83 6391  755]\n",
            " [ 312  132  573 6483]]\n",
            "Classification Report:\n",
            "               precision    recall  f1-score   support\n",
            "\n",
            "           1       0.91      0.88      0.90      7500\n",
            "           2       0.94      0.97      0.96      7500\n",
            "           3       0.87      0.85      0.86      7500\n",
            "           4       0.86      0.86      0.86      7500\n",
            "\n",
            "    accuracy                           0.89     30000\n",
            "   macro avg       0.89      0.89      0.89     30000\n",
            "weighted avg       0.89      0.89      0.89     30000\n",
            "\n"
          ]
        }
      ],
      "source": [
        "from sklearn.naive_bayes import MultinomialNB\n",
        "from sklearn.metrics import confusion_matrix, classification_report\n",
        "\n",
        "nb_classifier = MultinomialNB()\n",
        "nb_classifier.fit(X_train, y_train)\n",
        "\n",
        "# Predictions on the test set\n",
        "y_pred = nb_classifier.predict(X_test)\n",
        "\n",
        "# Performance measures\n",
        "cm = confusion_matrix(y_test, y_pred)\n",
        "print(\"Confusion Matrix:\\n\", cm)\n",
        "\n",
        "# Classification Report\n",
        "print(\"Classification Report:\\n\", classification_report(y_test, y_pred, zero_division=0))\n",
        "algorithm.append(\"MultinomialNB with TFIDF\")\n",
        "precision.append(precision_score(y_test,y_pred,zero_division=0,average='macro'))\n",
        "recall.append(recall_score(y_test,y_pred,zero_division=0,average='macro'))\n",
        "accuracys.append(accuracy_score(y_test,y_pred))"
      ]
    },
    {
      "cell_type": "markdown",
      "metadata": {
        "id": "cVXNqmTpCAQ-"
      },
      "source": [
        "Using word2vec with TFIDF"
      ]
    },
    {
      "cell_type": "code",
      "execution_count": null,
      "metadata": {
        "id": "7D4OwI77CAQ-"
      },
      "outputs": [],
      "source": [
        "import gensim"
      ]
    },
    {
      "cell_type": "code",
      "execution_count": null,
      "metadata": {
        "id": "gmhkDjHjCAQ-"
      },
      "outputs": [],
      "source": [
        "import numpy as np"
      ]
    },
    {
      "cell_type": "code",
      "execution_count": null,
      "metadata": {
        "id": "jnBaXTEHCAQ-"
      },
      "outputs": [],
      "source": [
        "model=gensim.models.keyedvectors.load_word2vec_format(\"/content/drive/MyDrive/NLP Dataset/GoogleNews-vectors-negative300.bin\",binary=True)"
      ]
    },
    {
      "cell_type": "code",
      "execution_count": null,
      "metadata": {
        "id": "xCwZQaZSCdvp"
      },
      "outputs": [],
      "source": [
        "vocab = model.key_to_index"
      ]
    },
    {
      "cell_type": "code",
      "source": [
        "from google.colab import drive\n",
        "drive.mount('/content/drive')"
      ],
      "metadata": {
        "colab": {
          "base_uri": "https://localhost:8080/"
        },
        "id": "l6-SDEKRaBdL",
        "outputId": "64ef8b01-cd60-4180-f8cd-7f2fcbf4e8ce"
      },
      "execution_count": null,
      "outputs": [
        {
          "output_type": "stream",
          "name": "stdout",
          "text": [
            "Mounted at /content/drive\n"
          ]
        }
      ]
    },
    {
      "cell_type": "code",
      "execution_count": null,
      "metadata": {
        "id": "UR4I87GeRqnZ"
      },
      "outputs": [],
      "source": [
        "def embeddings(text):\n",
        "  DIM = 300\n",
        "  zero_vec = np.zeros(DIM)\n",
        "  features = []\n",
        "  for tokens in text:\n",
        "    feat = np.zeros(DIM)\n",
        "    count = 0 + 1e-5 #for DIV by 0 error\n",
        "    for token in tokens:\n",
        "      if token in model:\n",
        "        feat += model[token]\n",
        "        count += 1\n",
        "    if(count !=0):\n",
        "      features.append(feat/count)\n",
        "    else:\n",
        "      features.append(zero_vec)\n",
        "  return features"
      ]
    },
    {
      "cell_type": "code",
      "execution_count": null,
      "metadata": {
        "id": "MrmSrKaHRrpj"
      },
      "outputs": [],
      "source": [
        "data['Title'] = data['Title'].apply(lambda x: ' '.join(map(str, x)))\n",
        "data['Description'] = data['Description'].apply(lambda x: ' '.join(map(str, x)))\n",
        "data['Combined_Text2'] = data['Title'] + ' ' + data['Description']\n",
        "data_vec=embeddings(data['Combined_Text2'])"
      ]
    },
    {
      "cell_type": "code",
      "execution_count": null,
      "metadata": {
        "id": "-zo4EaRDRr_Z",
        "colab": {
          "base_uri": "https://localhost:8080/"
        },
        "outputId": "348f05fe-0103-4f05-a9ad-d3eafb6c9268"
      },
      "outputs": [
        {
          "output_type": "stream",
          "name": "stdout",
          "text": [
            "120000\n"
          ]
        }
      ],
      "source": [
        "print(len(data_vec))"
      ]
    },
    {
      "cell_type": "code",
      "execution_count": null,
      "metadata": {
        "id": "H2F03SDoRtsK"
      },
      "outputs": [],
      "source": [
        "# Train-test split of the reduced data\n",
        "X_train, X_test, y_train, y_test = train_test_split(data_vec,\n",
        "                                                    data['Class Index'],\n",
        "                                                    stratify=data['Class Index'],\n",
        "                                                    random_state=1)"
      ]
    },
    {
      "cell_type": "markdown",
      "metadata": {
        "id": "X0NKs_H5Samu"
      },
      "source": [
        "Logistic Regression using Word2vec"
      ]
    },
    {
      "cell_type": "code",
      "execution_count": null,
      "metadata": {
        "id": "VBt3DgMaRyCR",
        "colab": {
          "base_uri": "https://localhost:8080/"
        },
        "outputId": "ab3f6e00-d2e1-4f2e-ce69-89b0363b4c6c"
      },
      "outputs": [
        {
          "output_type": "stream",
          "name": "stdout",
          "text": [
            "              precision    recall  f1-score   support\n",
            "\n",
            "           1       0.48      0.48      0.48      7500\n",
            "           2       0.50      0.54      0.52      7500\n",
            "           3       0.45      0.39      0.42      7500\n",
            "           4       0.48      0.50      0.49      7500\n",
            "\n",
            "    accuracy                           0.48     30000\n",
            "   macro avg       0.48      0.48      0.48     30000\n",
            "weighted avg       0.48      0.48      0.48     30000\n",
            "\n",
            "              precision    recall  f1-score   support\n",
            "\n",
            "           1       0.48      0.48      0.48      7500\n",
            "           2       0.50      0.54      0.52      7500\n",
            "           3       0.45      0.39      0.42      7500\n",
            "           4       0.48      0.50      0.49      7500\n",
            "\n",
            "    accuracy                           0.48     30000\n",
            "   macro avg       0.48      0.48      0.48     30000\n",
            "weighted avg       0.48      0.48      0.48     30000\n",
            "\n"
          ]
        }
      ],
      "source": [
        "# Classifier\n",
        "clf = LogisticRegression(penalty= 'elasticnet', solver= 'saga',\n",
        "                         l1_ratio=0.5, random_state=1).fit(X_train,y_train)\n",
        "\n",
        "y_pred = clf.predict(X_test)\n",
        "# Performance measure\n",
        "from sklearn.metrics import confusion_matrix,classification_report\n",
        "\n",
        "cm = confusion_matrix(y_test,y_pred)\n",
        "\n",
        "print(classification_report(y_test, y_pred,zero_division=0))\n",
        "cm=confusion_matrix(y_test,y_pred)\n",
        "print(classification_report(y_test,y_pred,zero_division=0))\n",
        "from sklearn.metrics import precision_score,recall_score,accuracy_score\n",
        "algorithm.append(\"Logistic Regression with  Word2vec\")\n",
        "precision.append(precision_score(y_test,y_pred,zero_division=0,average='macro'))\n",
        "recall.append(recall_score(y_test,y_pred,zero_division=0,average='macro'))\n"
      ]
    },
    {
      "cell_type": "code",
      "execution_count": null,
      "metadata": {
        "id": "Wk0HnzwEZE9I"
      },
      "outputs": [],
      "source": [
        "accuracys.append(accuracy_score(y_test,y_pred))"
      ]
    },
    {
      "cell_type": "markdown",
      "metadata": {
        "id": "uqQ6RiO5SeR6"
      },
      "source": [
        "SVM using Word2vec"
      ]
    },
    {
      "cell_type": "code",
      "execution_count": null,
      "metadata": {
        "id": "PKhUF0kJShZJ",
        "colab": {
          "base_uri": "https://localhost:8080/"
        },
        "outputId": "0942f375-0cac-4fac-c88b-770ac69bd802"
      },
      "outputs": [
        {
          "output_type": "stream",
          "name": "stderr",
          "text": [
            "/usr/local/lib/python3.10/dist-packages/sklearn/svm/_base.py:299: ConvergenceWarning: Solver terminated early (max_iter=1000).  Consider pre-processing your data with StandardScaler or MinMaxScaler.\n",
            "  warnings.warn(\n"
          ]
        },
        {
          "output_type": "stream",
          "name": "stdout",
          "text": [
            "Accuracy: 0.2502333333333333\n",
            "              precision    recall  f1-score   support\n",
            "\n",
            "           1       0.26      0.00      0.00      7500\n",
            "           2       0.43      0.00      0.01      7500\n",
            "           3       0.13      0.00      0.00      7500\n",
            "           4       0.25      1.00      0.40      7500\n",
            "\n",
            "    accuracy                           0.25     30000\n",
            "   macro avg       0.27      0.25      0.10     30000\n",
            "weighted avg       0.27      0.25      0.10     30000\n",
            "\n",
            "              precision    recall  f1-score   support\n",
            "\n",
            "           1       0.26      0.00      0.00      7500\n",
            "           2       0.43      0.00      0.01      7500\n",
            "           3       0.13      0.00      0.00      7500\n",
            "           4       0.25      1.00      0.40      7500\n",
            "\n",
            "    accuracy                           0.25     30000\n",
            "   macro avg       0.27      0.25      0.10     30000\n",
            "weighted avg       0.27      0.25      0.10     30000\n",
            "\n"
          ]
        }
      ],
      "source": [
        "from sklearn import svm\n",
        "from sklearn.metrics import accuracy_score\n",
        "# Create an SVM classifier\n",
        "clf = svm.SVC(max_iter=1000)\n",
        "\n",
        "# Train the classifier\n",
        "clf.fit(X_train, y_train)\n",
        "\n",
        "# Make predictions on the test set\n",
        "y_pred = clf.predict(X_test)\n",
        "\n",
        "# Evaluate the accuracy\n",
        "accuracy = accuracy_score(y_test, y_pred)\n",
        "print(f\"Accuracy: {accuracy}\")\n",
        "print(classification_report(y_test, y_pred,zero_division=0))\n",
        "cm=confusion_matrix(y_test,y_pred)\n",
        "print(classification_report(y_test,y_pred,zero_division=0))\n",
        "from sklearn.metrics import precision_score,recall_score,accuracy_score\n",
        "algorithm.append(\"SVM with Word2Vec\")\n",
        "precision.append(precision_score(y_test,y_pred,zero_division=0,average='macro'))\n",
        "recall.append(recall_score(y_test,y_pred,zero_division=0,average='macro'))\n",
        "accuracys.append(accuracy_score(y_test,y_pred))\n"
      ]
    },
    {
      "cell_type": "markdown",
      "metadata": {
        "id": "Z6v_-iuLShKZ"
      },
      "source": [
        "Random Forest using Word2vec"
      ]
    },
    {
      "cell_type": "code",
      "execution_count": null,
      "metadata": {
        "id": "MGlgl6RYYkoT",
        "colab": {
          "base_uri": "https://localhost:8080/"
        },
        "outputId": "a110e7fa-36c7-4654-8354-ed27b964c764"
      },
      "outputs": [
        {
          "output_type": "stream",
          "name": "stdout",
          "text": [
            "Random Forest Accuracy: 0.5033\n",
            "              precision    recall  f1-score   support\n",
            "\n",
            "           1       0.51      0.50      0.51      7500\n",
            "           2       0.51      0.57      0.54      7500\n",
            "           3       0.49      0.43      0.46      7500\n",
            "           4       0.50      0.51      0.51      7500\n",
            "\n",
            "    accuracy                           0.50     30000\n",
            "   macro avg       0.50      0.50      0.50     30000\n",
            "weighted avg       0.50      0.50      0.50     30000\n",
            "\n"
          ]
        }
      ],
      "source": [
        "# Create a Random Forest classifier\n",
        "clf = RandomForestClassifier(n_estimators=50,random_state=100)\n",
        "# Train the classifier\n",
        "clf.fit(X_train, y_train)\n",
        "\n",
        "# Make predictions on the test set\n",
        "y_pred = clf.predict(X_test)\n",
        "\n",
        "# Evaluate the accuracy\n",
        "accuracy = accuracy_score(y_test, y_pred)\n",
        "print(f\"Random Forest Accuracy: {accuracy}\")\n",
        "cm = confusion_matrix(y_test,y_pred)\n",
        "\n",
        "print(classification_report(y_test, y_pred,zero_division=0))\n",
        "from sklearn.metrics import precision_score,recall_score,accuracy_score\n",
        "algorithm.append(\"Random Forest with  Word2vec\")\n",
        "precision.append(precision_score(y_test,y_pred,zero_division=0,average='macro'))\n",
        "recall.append(recall_score(y_test,y_pred,zero_division=0,average='macro'))\n",
        "accuracys.append(accuracy_score(y_test,y_pred))"
      ]
    },
    {
      "cell_type": "code",
      "execution_count": null,
      "metadata": {
        "id": "bnwcl7fGgOIy"
      },
      "outputs": [],
      "source": [
        "df = pd.DataFrame({'algorithm':algorithm,'Precision': precision,'Recall': recall,'Accuracy': accuracys})"
      ]
    },
    {
      "cell_type": "code",
      "execution_count": null,
      "metadata": {
        "id": "JEC3UWGygqif",
        "colab": {
          "base_uri": "https://localhost:8080/",
          "height": 394
        },
        "outputId": "90b10370-1eb9-4f3b-f9a6-89c0e43e8bc4"
      },
      "outputs": [
        {
          "output_type": "execute_result",
          "data": {
            "text/plain": [
              "                                   algorithm  Precision    Recall  Accuracy\n",
              "0   Logistic Regression with CountVectorizer   0.895267  0.895433  0.895433\n",
              "1                   SVM with CountVectorizer   0.794613  0.788833  0.788833\n",
              "2         Random Forest with CountVectorizer   0.881385  0.881733  0.881733\n",
              "3             Logistic Regression with TFIDF   0.907011  0.907167  0.907167\n",
              "4          Support Vector Machine with TFIDF   0.785736  0.715933  0.715933\n",
              "5                   Random Forest with TFIDF   0.880879  0.881333  0.881333\n",
              "6                  KNN Classifier with TFIDF   0.880879  0.881333  0.881333\n",
              "7                   MultinomialNB with TFIDF   0.893216  0.893600  0.893600\n",
              "8         Logistic Regression with  Word2vec   0.478945  0.480267  0.480267\n",
              "9                          SVM with Word2Vec   0.268738  0.250233  0.250233\n",
              "10              Random Forest with  Word2vec   0.502845  0.503300  0.503300"
            ],
            "text/html": [
              "\n",
              "  <div id=\"df-ccf64338-ba17-44c5-89f7-a29508b88bca\" class=\"colab-df-container\">\n",
              "    <div>\n",
              "<style scoped>\n",
              "    .dataframe tbody tr th:only-of-type {\n",
              "        vertical-align: middle;\n",
              "    }\n",
              "\n",
              "    .dataframe tbody tr th {\n",
              "        vertical-align: top;\n",
              "    }\n",
              "\n",
              "    .dataframe thead th {\n",
              "        text-align: right;\n",
              "    }\n",
              "</style>\n",
              "<table border=\"1\" class=\"dataframe\">\n",
              "  <thead>\n",
              "    <tr style=\"text-align: right;\">\n",
              "      <th></th>\n",
              "      <th>algorithm</th>\n",
              "      <th>Precision</th>\n",
              "      <th>Recall</th>\n",
              "      <th>Accuracy</th>\n",
              "    </tr>\n",
              "  </thead>\n",
              "  <tbody>\n",
              "    <tr>\n",
              "      <th>0</th>\n",
              "      <td>Logistic Regression with CountVectorizer</td>\n",
              "      <td>0.895267</td>\n",
              "      <td>0.895433</td>\n",
              "      <td>0.895433</td>\n",
              "    </tr>\n",
              "    <tr>\n",
              "      <th>1</th>\n",
              "      <td>SVM with CountVectorizer</td>\n",
              "      <td>0.794613</td>\n",
              "      <td>0.788833</td>\n",
              "      <td>0.788833</td>\n",
              "    </tr>\n",
              "    <tr>\n",
              "      <th>2</th>\n",
              "      <td>Random Forest with CountVectorizer</td>\n",
              "      <td>0.881385</td>\n",
              "      <td>0.881733</td>\n",
              "      <td>0.881733</td>\n",
              "    </tr>\n",
              "    <tr>\n",
              "      <th>3</th>\n",
              "      <td>Logistic Regression with TFIDF</td>\n",
              "      <td>0.907011</td>\n",
              "      <td>0.907167</td>\n",
              "      <td>0.907167</td>\n",
              "    </tr>\n",
              "    <tr>\n",
              "      <th>4</th>\n",
              "      <td>Support Vector Machine with TFIDF</td>\n",
              "      <td>0.785736</td>\n",
              "      <td>0.715933</td>\n",
              "      <td>0.715933</td>\n",
              "    </tr>\n",
              "    <tr>\n",
              "      <th>5</th>\n",
              "      <td>Random Forest with TFIDF</td>\n",
              "      <td>0.880879</td>\n",
              "      <td>0.881333</td>\n",
              "      <td>0.881333</td>\n",
              "    </tr>\n",
              "    <tr>\n",
              "      <th>6</th>\n",
              "      <td>KNN Classifier with TFIDF</td>\n",
              "      <td>0.880879</td>\n",
              "      <td>0.881333</td>\n",
              "      <td>0.881333</td>\n",
              "    </tr>\n",
              "    <tr>\n",
              "      <th>7</th>\n",
              "      <td>MultinomialNB with TFIDF</td>\n",
              "      <td>0.893216</td>\n",
              "      <td>0.893600</td>\n",
              "      <td>0.893600</td>\n",
              "    </tr>\n",
              "    <tr>\n",
              "      <th>8</th>\n",
              "      <td>Logistic Regression with  Word2vec</td>\n",
              "      <td>0.478945</td>\n",
              "      <td>0.480267</td>\n",
              "      <td>0.480267</td>\n",
              "    </tr>\n",
              "    <tr>\n",
              "      <th>9</th>\n",
              "      <td>SVM with Word2Vec</td>\n",
              "      <td>0.268738</td>\n",
              "      <td>0.250233</td>\n",
              "      <td>0.250233</td>\n",
              "    </tr>\n",
              "    <tr>\n",
              "      <th>10</th>\n",
              "      <td>Random Forest with  Word2vec</td>\n",
              "      <td>0.502845</td>\n",
              "      <td>0.503300</td>\n",
              "      <td>0.503300</td>\n",
              "    </tr>\n",
              "  </tbody>\n",
              "</table>\n",
              "</div>\n",
              "    <div class=\"colab-df-buttons\">\n",
              "\n",
              "  <div class=\"colab-df-container\">\n",
              "    <button class=\"colab-df-convert\" onclick=\"convertToInteractive('df-ccf64338-ba17-44c5-89f7-a29508b88bca')\"\n",
              "            title=\"Convert this dataframe to an interactive table.\"\n",
              "            style=\"display:none;\">\n",
              "\n",
              "  <svg xmlns=\"http://www.w3.org/2000/svg\" height=\"24px\" viewBox=\"0 -960 960 960\">\n",
              "    <path d=\"M120-120v-720h720v720H120Zm60-500h600v-160H180v160Zm220 220h160v-160H400v160Zm0 220h160v-160H400v160ZM180-400h160v-160H180v160Zm440 0h160v-160H620v160ZM180-180h160v-160H180v160Zm440 0h160v-160H620v160Z\"/>\n",
              "  </svg>\n",
              "    </button>\n",
              "\n",
              "  <style>\n",
              "    .colab-df-container {\n",
              "      display:flex;\n",
              "      gap: 12px;\n",
              "    }\n",
              "\n",
              "    .colab-df-convert {\n",
              "      background-color: #E8F0FE;\n",
              "      border: none;\n",
              "      border-radius: 50%;\n",
              "      cursor: pointer;\n",
              "      display: none;\n",
              "      fill: #1967D2;\n",
              "      height: 32px;\n",
              "      padding: 0 0 0 0;\n",
              "      width: 32px;\n",
              "    }\n",
              "\n",
              "    .colab-df-convert:hover {\n",
              "      background-color: #E2EBFA;\n",
              "      box-shadow: 0px 1px 2px rgba(60, 64, 67, 0.3), 0px 1px 3px 1px rgba(60, 64, 67, 0.15);\n",
              "      fill: #174EA6;\n",
              "    }\n",
              "\n",
              "    .colab-df-buttons div {\n",
              "      margin-bottom: 4px;\n",
              "    }\n",
              "\n",
              "    [theme=dark] .colab-df-convert {\n",
              "      background-color: #3B4455;\n",
              "      fill: #D2E3FC;\n",
              "    }\n",
              "\n",
              "    [theme=dark] .colab-df-convert:hover {\n",
              "      background-color: #434B5C;\n",
              "      box-shadow: 0px 1px 3px 1px rgba(0, 0, 0, 0.15);\n",
              "      filter: drop-shadow(0px 1px 2px rgba(0, 0, 0, 0.3));\n",
              "      fill: #FFFFFF;\n",
              "    }\n",
              "  </style>\n",
              "\n",
              "    <script>\n",
              "      const buttonEl =\n",
              "        document.querySelector('#df-ccf64338-ba17-44c5-89f7-a29508b88bca button.colab-df-convert');\n",
              "      buttonEl.style.display =\n",
              "        google.colab.kernel.accessAllowed ? 'block' : 'none';\n",
              "\n",
              "      async function convertToInteractive(key) {\n",
              "        const element = document.querySelector('#df-ccf64338-ba17-44c5-89f7-a29508b88bca');\n",
              "        const dataTable =\n",
              "          await google.colab.kernel.invokeFunction('convertToInteractive',\n",
              "                                                    [key], {});\n",
              "        if (!dataTable) return;\n",
              "\n",
              "        const docLinkHtml = 'Like what you see? Visit the ' +\n",
              "          '<a target=\"_blank\" href=https://colab.research.google.com/notebooks/data_table.ipynb>data table notebook</a>'\n",
              "          + ' to learn more about interactive tables.';\n",
              "        element.innerHTML = '';\n",
              "        dataTable['output_type'] = 'display_data';\n",
              "        await google.colab.output.renderOutput(dataTable, element);\n",
              "        const docLink = document.createElement('div');\n",
              "        docLink.innerHTML = docLinkHtml;\n",
              "        element.appendChild(docLink);\n",
              "      }\n",
              "    </script>\n",
              "  </div>\n",
              "\n",
              "\n",
              "<div id=\"df-a9bacfa2-d6c9-484a-87ec-c2312f7311a4\">\n",
              "  <button class=\"colab-df-quickchart\" onclick=\"quickchart('df-a9bacfa2-d6c9-484a-87ec-c2312f7311a4')\"\n",
              "            title=\"Suggest charts\"\n",
              "            style=\"display:none;\">\n",
              "\n",
              "<svg xmlns=\"http://www.w3.org/2000/svg\" height=\"24px\"viewBox=\"0 0 24 24\"\n",
              "     width=\"24px\">\n",
              "    <g>\n",
              "        <path d=\"M19 3H5c-1.1 0-2 .9-2 2v14c0 1.1.9 2 2 2h14c1.1 0 2-.9 2-2V5c0-1.1-.9-2-2-2zM9 17H7v-7h2v7zm4 0h-2V7h2v10zm4 0h-2v-4h2v4z\"/>\n",
              "    </g>\n",
              "</svg>\n",
              "  </button>\n",
              "\n",
              "<style>\n",
              "  .colab-df-quickchart {\n",
              "      --bg-color: #E8F0FE;\n",
              "      --fill-color: #1967D2;\n",
              "      --hover-bg-color: #E2EBFA;\n",
              "      --hover-fill-color: #174EA6;\n",
              "      --disabled-fill-color: #AAA;\n",
              "      --disabled-bg-color: #DDD;\n",
              "  }\n",
              "\n",
              "  [theme=dark] .colab-df-quickchart {\n",
              "      --bg-color: #3B4455;\n",
              "      --fill-color: #D2E3FC;\n",
              "      --hover-bg-color: #434B5C;\n",
              "      --hover-fill-color: #FFFFFF;\n",
              "      --disabled-bg-color: #3B4455;\n",
              "      --disabled-fill-color: #666;\n",
              "  }\n",
              "\n",
              "  .colab-df-quickchart {\n",
              "    background-color: var(--bg-color);\n",
              "    border: none;\n",
              "    border-radius: 50%;\n",
              "    cursor: pointer;\n",
              "    display: none;\n",
              "    fill: var(--fill-color);\n",
              "    height: 32px;\n",
              "    padding: 0;\n",
              "    width: 32px;\n",
              "  }\n",
              "\n",
              "  .colab-df-quickchart:hover {\n",
              "    background-color: var(--hover-bg-color);\n",
              "    box-shadow: 0 1px 2px rgba(60, 64, 67, 0.3), 0 1px 3px 1px rgba(60, 64, 67, 0.15);\n",
              "    fill: var(--button-hover-fill-color);\n",
              "  }\n",
              "\n",
              "  .colab-df-quickchart-complete:disabled,\n",
              "  .colab-df-quickchart-complete:disabled:hover {\n",
              "    background-color: var(--disabled-bg-color);\n",
              "    fill: var(--disabled-fill-color);\n",
              "    box-shadow: none;\n",
              "  }\n",
              "\n",
              "  .colab-df-spinner {\n",
              "    border: 2px solid var(--fill-color);\n",
              "    border-color: transparent;\n",
              "    border-bottom-color: var(--fill-color);\n",
              "    animation:\n",
              "      spin 1s steps(1) infinite;\n",
              "  }\n",
              "\n",
              "  @keyframes spin {\n",
              "    0% {\n",
              "      border-color: transparent;\n",
              "      border-bottom-color: var(--fill-color);\n",
              "      border-left-color: var(--fill-color);\n",
              "    }\n",
              "    20% {\n",
              "      border-color: transparent;\n",
              "      border-left-color: var(--fill-color);\n",
              "      border-top-color: var(--fill-color);\n",
              "    }\n",
              "    30% {\n",
              "      border-color: transparent;\n",
              "      border-left-color: var(--fill-color);\n",
              "      border-top-color: var(--fill-color);\n",
              "      border-right-color: var(--fill-color);\n",
              "    }\n",
              "    40% {\n",
              "      border-color: transparent;\n",
              "      border-right-color: var(--fill-color);\n",
              "      border-top-color: var(--fill-color);\n",
              "    }\n",
              "    60% {\n",
              "      border-color: transparent;\n",
              "      border-right-color: var(--fill-color);\n",
              "    }\n",
              "    80% {\n",
              "      border-color: transparent;\n",
              "      border-right-color: var(--fill-color);\n",
              "      border-bottom-color: var(--fill-color);\n",
              "    }\n",
              "    90% {\n",
              "      border-color: transparent;\n",
              "      border-bottom-color: var(--fill-color);\n",
              "    }\n",
              "  }\n",
              "</style>\n",
              "\n",
              "  <script>\n",
              "    async function quickchart(key) {\n",
              "      const quickchartButtonEl =\n",
              "        document.querySelector('#' + key + ' button');\n",
              "      quickchartButtonEl.disabled = true;  // To prevent multiple clicks.\n",
              "      quickchartButtonEl.classList.add('colab-df-spinner');\n",
              "      try {\n",
              "        const charts = await google.colab.kernel.invokeFunction(\n",
              "            'suggestCharts', [key], {});\n",
              "      } catch (error) {\n",
              "        console.error('Error during call to suggestCharts:', error);\n",
              "      }\n",
              "      quickchartButtonEl.classList.remove('colab-df-spinner');\n",
              "      quickchartButtonEl.classList.add('colab-df-quickchart-complete');\n",
              "    }\n",
              "    (() => {\n",
              "      let quickchartButtonEl =\n",
              "        document.querySelector('#df-a9bacfa2-d6c9-484a-87ec-c2312f7311a4 button');\n",
              "      quickchartButtonEl.style.display =\n",
              "        google.colab.kernel.accessAllowed ? 'block' : 'none';\n",
              "    })();\n",
              "  </script>\n",
              "</div>\n",
              "    </div>\n",
              "  </div>\n"
            ]
          },
          "metadata": {},
          "execution_count": 68
        }
      ],
      "source": [
        "df"
      ]
    },
    {
      "cell_type": "code",
      "source": [],
      "metadata": {
        "id": "VNv9xX02qxFm"
      },
      "execution_count": null,
      "outputs": []
    }
  ],
  "metadata": {
    "colab": {
      "provenance": []
    },
    "kaggle": {
      "accelerator": "gpu",
      "dataSources": [
        {
          "datasetId": 612351,
          "sourceId": 1095715,
          "sourceType": "datasetVersion"
        }
      ],
      "dockerImageVersionId": 30648,
      "isGpuEnabled": true,
      "isInternetEnabled": true,
      "language": "python",
      "sourceType": "notebook"
    },
    "kernelspec": {
      "display_name": "Python 3",
      "language": "python",
      "name": "python3"
    },
    "language_info": {
      "codemirror_mode": {
        "name": "ipython",
        "version": 3
      },
      "file_extension": ".py",
      "mimetype": "text/x-python",
      "name": "python",
      "nbconvert_exporter": "python",
      "pygments_lexer": "ipython3",
      "version": "3.10.13"
    }
  },
  "nbformat": 4,
  "nbformat_minor": 0
}